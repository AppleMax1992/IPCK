version https://git-lfs.github.com/spec/v1
oid sha256:42aaff9d9cfbd1fcd3d76c4a5b104605e531e59127d5d8e52174029214ab231a
size 77374
