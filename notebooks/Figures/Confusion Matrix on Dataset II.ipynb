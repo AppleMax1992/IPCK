version https://git-lfs.github.com/spec/v1
oid sha256:83e26505a7179dfadf48a499629c4f8533d5603dc81f4457ea709bfdec9137d5
size 22643
