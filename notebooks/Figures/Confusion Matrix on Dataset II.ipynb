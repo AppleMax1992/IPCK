version https://git-lfs.github.com/spec/v1
oid sha256:604c868e95adbd52633e24bb11be674c49ed7664e22e85ebf43cda823fa0679d
size 81104
