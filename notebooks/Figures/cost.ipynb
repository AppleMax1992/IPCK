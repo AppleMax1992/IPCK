version https://git-lfs.github.com/spec/v1
oid sha256:543846170ff04d5d92ff25448534215152fbf264b9cff40800a3dd7d94bf0782
size 920
