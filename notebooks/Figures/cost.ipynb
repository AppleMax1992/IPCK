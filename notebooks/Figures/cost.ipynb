{
 "cells": [
  {
   "cell_type": "code",
   "execution_count": null,
   "metadata": {},
   "outputs": [],
   "source": [
    "model = AutoModel.from_pretrained(model_name)\n",
    "num_params = sum(p.numel() for p in model.parameters())\n",
    "print(f\"Number of parameters: {num_params}\")\n",
    "\n",
    "print(f\"Inference time: {inference_time_ms} ms\")\n",
    "\n",
    "\n",
    "# Measure memory usage\n",
    "torch.cuda.empty_cache()  # Clear cache to get more accurate memory usage\n",
    "memory_allocated = torch.cuda.memory_allocated(device=device)\n",
    "memory_cached = torch.cuda.memory_cached(device=device)\n",
    "\n",
    "print(f\"Memory allocated: {memory_allocated / 1024**2} MB\")\n",
    "print(f\"Memory cached: {memory_cached / 1024**2} MB\")"
   ]
  }
 ],
 "metadata": {
  "language_info": {
   "name": "python"
  },
  "orig_nbformat": 4
 },
 "nbformat": 4,
 "nbformat_minor": 2
}
