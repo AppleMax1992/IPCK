version https://git-lfs.github.com/spec/v1
oid sha256:31f4752305068952ae3d218b8ec33496b34c05d13c0247f8aa6aba2a1d50e771
size 461107
