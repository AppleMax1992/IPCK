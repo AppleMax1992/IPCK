version https://git-lfs.github.com/spec/v1
oid sha256:30650095918c016915e1ee661cbcea7854eb189636e10a0d3e81271fcba817ae
size 2300
