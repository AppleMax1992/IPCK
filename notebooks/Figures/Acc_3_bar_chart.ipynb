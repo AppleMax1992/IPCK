version https://git-lfs.github.com/spec/v1
oid sha256:e4b4f707fc8092eba82f173f927d002b0e0b8b19ddb2ff587eb94dc840cafcda
size 51791
