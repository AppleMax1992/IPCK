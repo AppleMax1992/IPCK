version https://git-lfs.github.com/spec/v1
oid sha256:846992c7ecf28e4dafab53615f1be2abd4a1ad1e33872ec68257861692a53c6c
size 79993
