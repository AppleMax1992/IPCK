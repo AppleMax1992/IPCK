version https://git-lfs.github.com/spec/v1
oid sha256:5f377c363d9b44540b906001a578e294deb53a672d13f1c33c281b3f7c7a1e0b
size 64850
