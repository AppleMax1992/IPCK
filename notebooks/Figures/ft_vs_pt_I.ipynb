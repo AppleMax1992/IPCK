version https://git-lfs.github.com/spec/v1
oid sha256:dcf1763451ef861114b4cbfaba81225fcb6c94d6011167cd90f011c745cf8974
size 81459
