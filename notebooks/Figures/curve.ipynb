{
 "cells": [
  {
   "cell_type": "code",
   "execution_count": 4,
   "metadata": {},
   "outputs": [
    {
     "data": {
      "application/vnd.plotly.v1+json": {
       "config": {
        "plotlyServerURL": "https://plot.ly"
       },
       "data": [
        {
         "hovertemplate": "Rate=False Positive Rate<br>Thresholds=%{x}<br>value=%{y}<extra></extra>",
         "legendgroup": "False Positive Rate",
         "line": {
          "color": "#636efa",
          "dash": "solid"
         },
         "marker": {
          "symbol": "circle"
         },
         "mode": "lines",
         "name": "False Positive Rate",
         "orientation": "v",
         "showlegend": true,
         "type": "scatter",
         "x": [
          1.9996882135754848,
          0.9996882135754848,
          0.9139637830785574,
          0.9110831710026043,
          0.8844862150852785,
          0.8781904901852354,
          0.8714276527127065,
          0.8703190596952212,
          0.8682307692925818,
          0.8663173631892584,
          0.8562739214731094,
          0.8546183884851075,
          0.8190826146455112,
          0.8185203243306088,
          0.809952730458891,
          0.8099366217420526,
          0.8005351402333714,
          0.7850712408123581,
          0.7507468698358262,
          0.7466910565199275,
          0.6773477300458647,
          0.6622197377325717,
          0.661932591779665,
          0.6596794642666204,
          0.6590597121419319,
          0.6586702916638735,
          0.6555203466334071,
          0.6296452198010163,
          0.618393090707258,
          0.6128456735289814,
          0.5986310129482225,
          0.5870298539162264,
          0.5799157791315775,
          0.576479593617727,
          0.57351637498364,
          0.5669894764014749,
          0.5609687165398184,
          0.5405994006673094,
          0.5269616408146642,
          0.5269229859145036,
          0.5251692830380923,
          0.5135492470532295,
          0.5121178116118561,
          0.49353207132956906,
          0.4874536157971068,
          0.4744791446529072,
          0.46581987450737594,
          0.46376941893943335,
          0.4578477338479849,
          0.453924804698873,
          0.453713824537428,
          0.44182075702236345,
          0.4304113362036991,
          0.42227549539261766,
          0.4209192667854829,
          0.40115477915729586,
          0.39227054354505175,
          0.3850094949197473,
          0.37196961950579327,
          0.34838979238402745,
          0.34113689122798807,
          0.3311941840926547,
          0.3258054350248956,
          0.3158444003116795,
          0.3093761382642122,
          0.3046013836206881,
          0.30389894302969206,
          0.3015867730896943,
          0.2989798538792572,
          0.2892915199604101,
          0.284359043238977,
          0.22168600805323757,
          0.22063404408446913,
          0.21022567072386383,
          0.2047082758281262,
          0.19835850145322093,
          0.19614807430475129,
          0.1874905518427842,
          0.18704898483138874,
          0.18544026719263454,
          0.18397891896292345,
          0.1800036178339394,
          0.1787107900292587,
          0.16743254190610005,
          0.1633498099942291,
          0.1042641417467898,
          0.09939143285044537,
          0.09861458575902396,
          0.09784344634122889,
          0.07945725053074794,
          0.07897196819073186,
          0.05794751131460096,
          0.05319258603342463,
          0.04868792741657965,
          0.04695176020388401,
          0.04529682702155503,
          0.04510336673073508,
          0.036845618313507474,
          0.036758265080867415,
          0.0312401660706288,
          0.03037223426072028,
          0.020311833010324395,
          0.020293214520110386,
          0.011108489033393513,
          0.010306191407442204,
          0.004577845481611619
         ],
         "xaxis": "x",
         "y": [
          0,
          0,
          0,
          0.00398406374501992,
          0.00398406374501992,
          0.00796812749003984,
          0.00796812749003984,
          0.01195219123505976,
          0.01195219123505976,
          0.01593625498007968,
          0.01593625498007968,
          0.0199203187250996,
          0.0199203187250996,
          0.02390438247011952,
          0.02390438247011952,
          0.027888446215139442,
          0.027888446215139442,
          0.035856573705179286,
          0.035856573705179286,
          0.0398406374501992,
          0.0398406374501992,
          0.043824701195219126,
          0.043824701195219126,
          0.04780876494023904,
          0.04780876494023904,
          0.05179282868525897,
          0.05179282868525897,
          0.07171314741035857,
          0.07171314741035857,
          0.0796812749003984,
          0.0796812749003984,
          0.09561752988047809,
          0.09561752988047809,
          0.10358565737051793,
          0.10358565737051793,
          0.11155378486055777,
          0.11155378486055777,
          0.12350597609561753,
          0.12350597609561753,
          0.12749003984063745,
          0.12749003984063745,
          0.14342629482071714,
          0.14342629482071714,
          0.16334661354581673,
          0.16334661354581673,
          0.1752988047808765,
          0.1752988047808765,
          0.17928286852589642,
          0.17928286852589642,
          0.18326693227091634,
          0.18326693227091634,
          0.1952191235059761,
          0.1952191235059761,
          0.20318725099601595,
          0.20318725099601595,
          0.21912350597609562,
          0.21912350597609562,
          0.23107569721115537,
          0.23107569721115537,
          0.24701195219123506,
          0.24701195219123506,
          0.2549800796812749,
          0.2549800796812749,
          0.27091633466135456,
          0.27091633466135456,
          0.2749003984063745,
          0.2749003984063745,
          0.28286852589641437,
          0.28286852589641437,
          0.30278884462151395,
          0.30278884462151395,
          0.398406374501992,
          0.398406374501992,
          0.41434262948207173,
          0.41434262948207173,
          0.4342629482071713,
          0.4342629482071713,
          0.46215139442231074,
          0.46215139442231074,
          0.46613545816733065,
          0.46613545816733065,
          0.4900398406374502,
          0.4900398406374502,
          0.5258964143426295,
          0.5258964143426295,
          0.6374501992031872,
          0.6374501992031872,
          0.6414342629482072,
          0.6414342629482072,
          0.7051792828685259,
          0.7051792828685259,
          0.7808764940239044,
          0.7808764940239044,
          0.8207171314741036,
          0.8207171314741036,
          0.8286852589641435,
          0.8286852589641435,
          0.8605577689243028,
          0.8605577689243028,
          0.8884462151394422,
          0.8884462151394422,
          0.9402390438247012,
          0.9402390438247012,
          0.9721115537848606,
          0.9721115537848606,
          1
         ],
         "yaxis": "y"
        },
        {
         "hovertemplate": "Rate=True Positive Rate<br>Thresholds=%{x}<br>value=%{y}<extra></extra>",
         "legendgroup": "True Positive Rate",
         "line": {
          "color": "#EF553B",
          "dash": "solid"
         },
         "marker": {
          "symbol": "circle"
         },
         "mode": "lines",
         "name": "True Positive Rate",
         "orientation": "v",
         "showlegend": true,
         "type": "scatter",
         "x": [
          1.9996882135754848,
          0.9996882135754848,
          0.9139637830785574,
          0.9110831710026043,
          0.8844862150852785,
          0.8781904901852354,
          0.8714276527127065,
          0.8703190596952212,
          0.8682307692925818,
          0.8663173631892584,
          0.8562739214731094,
          0.8546183884851075,
          0.8190826146455112,
          0.8185203243306088,
          0.809952730458891,
          0.8099366217420526,
          0.8005351402333714,
          0.7850712408123581,
          0.7507468698358262,
          0.7466910565199275,
          0.6773477300458647,
          0.6622197377325717,
          0.661932591779665,
          0.6596794642666204,
          0.6590597121419319,
          0.6586702916638735,
          0.6555203466334071,
          0.6296452198010163,
          0.618393090707258,
          0.6128456735289814,
          0.5986310129482225,
          0.5870298539162264,
          0.5799157791315775,
          0.576479593617727,
          0.57351637498364,
          0.5669894764014749,
          0.5609687165398184,
          0.5405994006673094,
          0.5269616408146642,
          0.5269229859145036,
          0.5251692830380923,
          0.5135492470532295,
          0.5121178116118561,
          0.49353207132956906,
          0.4874536157971068,
          0.4744791446529072,
          0.46581987450737594,
          0.46376941893943335,
          0.4578477338479849,
          0.453924804698873,
          0.453713824537428,
          0.44182075702236345,
          0.4304113362036991,
          0.42227549539261766,
          0.4209192667854829,
          0.40115477915729586,
          0.39227054354505175,
          0.3850094949197473,
          0.37196961950579327,
          0.34838979238402745,
          0.34113689122798807,
          0.3311941840926547,
          0.3258054350248956,
          0.3158444003116795,
          0.3093761382642122,
          0.3046013836206881,
          0.30389894302969206,
          0.3015867730896943,
          0.2989798538792572,
          0.2892915199604101,
          0.284359043238977,
          0.22168600805323757,
          0.22063404408446913,
          0.21022567072386383,
          0.2047082758281262,
          0.19835850145322093,
          0.19614807430475129,
          0.1874905518427842,
          0.18704898483138874,
          0.18544026719263454,
          0.18397891896292345,
          0.1800036178339394,
          0.1787107900292587,
          0.16743254190610005,
          0.1633498099942291,
          0.1042641417467898,
          0.09939143285044537,
          0.09861458575902396,
          0.09784344634122889,
          0.07945725053074794,
          0.07897196819073186,
          0.05794751131460096,
          0.05319258603342463,
          0.04868792741657965,
          0.04695176020388401,
          0.04529682702155503,
          0.04510336673073508,
          0.036845618313507474,
          0.036758265080867415,
          0.0312401660706288,
          0.03037223426072028,
          0.020311833010324395,
          0.020293214520110386,
          0.011108489033393513,
          0.010306191407442204,
          0.004577845481611619
         ],
         "xaxis": "x",
         "y": [
          0,
          0.004016064257028112,
          0.4457831325301205,
          0.4457831325301205,
          0.5140562248995983,
          0.5140562248995983,
          0.5341365461847389,
          0.5341365461847389,
          0.5381526104417671,
          0.5381526104417671,
          0.5502008032128514,
          0.5502008032128514,
          0.6024096385542169,
          0.6024096385542169,
          0.6104417670682731,
          0.6104417670682731,
          0.6224899598393574,
          0.6224899598393574,
          0.678714859437751,
          0.678714859437751,
          0.7188755020080321,
          0.7188755020080321,
          0.7228915662650602,
          0.7228915662650602,
          0.7269076305220884,
          0.7269076305220884,
          0.7309236947791165,
          0.7309236947791165,
          0.7469879518072289,
          0.7469879518072289,
          0.7550200803212851,
          0.7550200803212851,
          0.7590361445783133,
          0.7590361445783133,
          0.7710843373493976,
          0.7710843373493976,
          0.7871485943775101,
          0.7871485943775101,
          0.7991967871485943,
          0.7991967871485943,
          0.8032128514056225,
          0.8032128514056225,
          0.8072289156626506,
          0.8072289156626506,
          0.8232931726907631,
          0.8232931726907631,
          0.8273092369477911,
          0.8273092369477911,
          0.8353413654618473,
          0.8353413654618473,
          0.8393574297188755,
          0.8393574297188755,
          0.8433734939759037,
          0.8433734939759037,
          0.8473895582329317,
          0.8473895582329317,
          0.8594377510040161,
          0.8594377510040161,
          0.8755020080321285,
          0.8755020080321285,
          0.8835341365461847,
          0.8835341365461847,
          0.891566265060241,
          0.891566265060241,
          0.8995983935742972,
          0.8995983935742972,
          0.9036144578313253,
          0.9036144578313253,
          0.9116465863453815,
          0.9116465863453815,
          0.9196787148594378,
          0.9196787148594378,
          0.9236947791164659,
          0.9236947791164659,
          0.9317269076305221,
          0.9317269076305221,
          0.9437751004016064,
          0.9437751004016064,
          0.9477911646586346,
          0.9477911646586346,
          0.9518072289156626,
          0.9518072289156626,
          0.9558232931726908,
          0.9558232931726908,
          0.9598393574297188,
          0.9598393574297188,
          0.963855421686747,
          0.963855421686747,
          0.9678714859437751,
          0.9678714859437751,
          0.9718875502008032,
          0.9718875502008032,
          0.9759036144578314,
          0.9759036144578314,
          0.9799196787148594,
          0.9799196787148594,
          0.9839357429718876,
          0.9839357429718876,
          0.9879518072289156,
          0.9879518072289156,
          0.9919678714859438,
          0.9919678714859438,
          0.9959839357429718,
          0.9959839357429718,
          1,
          1
         ],
         "yaxis": "y"
        }
       ],
       "layout": {
        "height": 500,
        "legend": {
         "title": {
          "text": "Rate"
         },
         "tracegroupgap": 0
        },
        "template": {
         "data": {
          "bar": [
           {
            "error_x": {
             "color": "#2a3f5f"
            },
            "error_y": {
             "color": "#2a3f5f"
            },
            "marker": {
             "line": {
              "color": "#E5ECF6",
              "width": 0.5
             },
             "pattern": {
              "fillmode": "overlay",
              "size": 10,
              "solidity": 0.2
             }
            },
            "type": "bar"
           }
          ],
          "barpolar": [
           {
            "marker": {
             "line": {
              "color": "#E5ECF6",
              "width": 0.5
             },
             "pattern": {
              "fillmode": "overlay",
              "size": 10,
              "solidity": 0.2
             }
            },
            "type": "barpolar"
           }
          ],
          "carpet": [
           {
            "aaxis": {
             "endlinecolor": "#2a3f5f",
             "gridcolor": "white",
             "linecolor": "white",
             "minorgridcolor": "white",
             "startlinecolor": "#2a3f5f"
            },
            "baxis": {
             "endlinecolor": "#2a3f5f",
             "gridcolor": "white",
             "linecolor": "white",
             "minorgridcolor": "white",
             "startlinecolor": "#2a3f5f"
            },
            "type": "carpet"
           }
          ],
          "choropleth": [
           {
            "colorbar": {
             "outlinewidth": 0,
             "ticks": ""
            },
            "type": "choropleth"
           }
          ],
          "contour": [
           {
            "colorbar": {
             "outlinewidth": 0,
             "ticks": ""
            },
            "colorscale": [
             [
              0,
              "#0d0887"
             ],
             [
              0.1111111111111111,
              "#46039f"
             ],
             [
              0.2222222222222222,
              "#7201a8"
             ],
             [
              0.3333333333333333,
              "#9c179e"
             ],
             [
              0.4444444444444444,
              "#bd3786"
             ],
             [
              0.5555555555555556,
              "#d8576b"
             ],
             [
              0.6666666666666666,
              "#ed7953"
             ],
             [
              0.7777777777777778,
              "#fb9f3a"
             ],
             [
              0.8888888888888888,
              "#fdca26"
             ],
             [
              1,
              "#f0f921"
             ]
            ],
            "type": "contour"
           }
          ],
          "contourcarpet": [
           {
            "colorbar": {
             "outlinewidth": 0,
             "ticks": ""
            },
            "type": "contourcarpet"
           }
          ],
          "heatmap": [
           {
            "colorbar": {
             "outlinewidth": 0,
             "ticks": ""
            },
            "colorscale": [
             [
              0,
              "#0d0887"
             ],
             [
              0.1111111111111111,
              "#46039f"
             ],
             [
              0.2222222222222222,
              "#7201a8"
             ],
             [
              0.3333333333333333,
              "#9c179e"
             ],
             [
              0.4444444444444444,
              "#bd3786"
             ],
             [
              0.5555555555555556,
              "#d8576b"
             ],
             [
              0.6666666666666666,
              "#ed7953"
             ],
             [
              0.7777777777777778,
              "#fb9f3a"
             ],
             [
              0.8888888888888888,
              "#fdca26"
             ],
             [
              1,
              "#f0f921"
             ]
            ],
            "type": "heatmap"
           }
          ],
          "heatmapgl": [
           {
            "colorbar": {
             "outlinewidth": 0,
             "ticks": ""
            },
            "colorscale": [
             [
              0,
              "#0d0887"
             ],
             [
              0.1111111111111111,
              "#46039f"
             ],
             [
              0.2222222222222222,
              "#7201a8"
             ],
             [
              0.3333333333333333,
              "#9c179e"
             ],
             [
              0.4444444444444444,
              "#bd3786"
             ],
             [
              0.5555555555555556,
              "#d8576b"
             ],
             [
              0.6666666666666666,
              "#ed7953"
             ],
             [
              0.7777777777777778,
              "#fb9f3a"
             ],
             [
              0.8888888888888888,
              "#fdca26"
             ],
             [
              1,
              "#f0f921"
             ]
            ],
            "type": "heatmapgl"
           }
          ],
          "histogram": [
           {
            "marker": {
             "pattern": {
              "fillmode": "overlay",
              "size": 10,
              "solidity": 0.2
             }
            },
            "type": "histogram"
           }
          ],
          "histogram2d": [
           {
            "colorbar": {
             "outlinewidth": 0,
             "ticks": ""
            },
            "colorscale": [
             [
              0,
              "#0d0887"
             ],
             [
              0.1111111111111111,
              "#46039f"
             ],
             [
              0.2222222222222222,
              "#7201a8"
             ],
             [
              0.3333333333333333,
              "#9c179e"
             ],
             [
              0.4444444444444444,
              "#bd3786"
             ],
             [
              0.5555555555555556,
              "#d8576b"
             ],
             [
              0.6666666666666666,
              "#ed7953"
             ],
             [
              0.7777777777777778,
              "#fb9f3a"
             ],
             [
              0.8888888888888888,
              "#fdca26"
             ],
             [
              1,
              "#f0f921"
             ]
            ],
            "type": "histogram2d"
           }
          ],
          "histogram2dcontour": [
           {
            "colorbar": {
             "outlinewidth": 0,
             "ticks": ""
            },
            "colorscale": [
             [
              0,
              "#0d0887"
             ],
             [
              0.1111111111111111,
              "#46039f"
             ],
             [
              0.2222222222222222,
              "#7201a8"
             ],
             [
              0.3333333333333333,
              "#9c179e"
             ],
             [
              0.4444444444444444,
              "#bd3786"
             ],
             [
              0.5555555555555556,
              "#d8576b"
             ],
             [
              0.6666666666666666,
              "#ed7953"
             ],
             [
              0.7777777777777778,
              "#fb9f3a"
             ],
             [
              0.8888888888888888,
              "#fdca26"
             ],
             [
              1,
              "#f0f921"
             ]
            ],
            "type": "histogram2dcontour"
           }
          ],
          "mesh3d": [
           {
            "colorbar": {
             "outlinewidth": 0,
             "ticks": ""
            },
            "type": "mesh3d"
           }
          ],
          "parcoords": [
           {
            "line": {
             "colorbar": {
              "outlinewidth": 0,
              "ticks": ""
             }
            },
            "type": "parcoords"
           }
          ],
          "pie": [
           {
            "automargin": true,
            "type": "pie"
           }
          ],
          "scatter": [
           {
            "fillpattern": {
             "fillmode": "overlay",
             "size": 10,
             "solidity": 0.2
            },
            "type": "scatter"
           }
          ],
          "scatter3d": [
           {
            "line": {
             "colorbar": {
              "outlinewidth": 0,
              "ticks": ""
             }
            },
            "marker": {
             "colorbar": {
              "outlinewidth": 0,
              "ticks": ""
             }
            },
            "type": "scatter3d"
           }
          ],
          "scattercarpet": [
           {
            "marker": {
             "colorbar": {
              "outlinewidth": 0,
              "ticks": ""
             }
            },
            "type": "scattercarpet"
           }
          ],
          "scattergeo": [
           {
            "marker": {
             "colorbar": {
              "outlinewidth": 0,
              "ticks": ""
             }
            },
            "type": "scattergeo"
           }
          ],
          "scattergl": [
           {
            "marker": {
             "colorbar": {
              "outlinewidth": 0,
              "ticks": ""
             }
            },
            "type": "scattergl"
           }
          ],
          "scattermapbox": [
           {
            "marker": {
             "colorbar": {
              "outlinewidth": 0,
              "ticks": ""
             }
            },
            "type": "scattermapbox"
           }
          ],
          "scatterpolar": [
           {
            "marker": {
             "colorbar": {
              "outlinewidth": 0,
              "ticks": ""
             }
            },
            "type": "scatterpolar"
           }
          ],
          "scatterpolargl": [
           {
            "marker": {
             "colorbar": {
              "outlinewidth": 0,
              "ticks": ""
             }
            },
            "type": "scatterpolargl"
           }
          ],
          "scatterternary": [
           {
            "marker": {
             "colorbar": {
              "outlinewidth": 0,
              "ticks": ""
             }
            },
            "type": "scatterternary"
           }
          ],
          "surface": [
           {
            "colorbar": {
             "outlinewidth": 0,
             "ticks": ""
            },
            "colorscale": [
             [
              0,
              "#0d0887"
             ],
             [
              0.1111111111111111,
              "#46039f"
             ],
             [
              0.2222222222222222,
              "#7201a8"
             ],
             [
              0.3333333333333333,
              "#9c179e"
             ],
             [
              0.4444444444444444,
              "#bd3786"
             ],
             [
              0.5555555555555556,
              "#d8576b"
             ],
             [
              0.6666666666666666,
              "#ed7953"
             ],
             [
              0.7777777777777778,
              "#fb9f3a"
             ],
             [
              0.8888888888888888,
              "#fdca26"
             ],
             [
              1,
              "#f0f921"
             ]
            ],
            "type": "surface"
           }
          ],
          "table": [
           {
            "cells": {
             "fill": {
              "color": "#EBF0F8"
             },
             "line": {
              "color": "white"
             }
            },
            "header": {
             "fill": {
              "color": "#C8D4E3"
             },
             "line": {
              "color": "white"
             }
            },
            "type": "table"
           }
          ]
         },
         "layout": {
          "annotationdefaults": {
           "arrowcolor": "#2a3f5f",
           "arrowhead": 0,
           "arrowwidth": 1
          },
          "autotypenumbers": "strict",
          "coloraxis": {
           "colorbar": {
            "outlinewidth": 0,
            "ticks": ""
           }
          },
          "colorscale": {
           "diverging": [
            [
             0,
             "#8e0152"
            ],
            [
             0.1,
             "#c51b7d"
            ],
            [
             0.2,
             "#de77ae"
            ],
            [
             0.3,
             "#f1b6da"
            ],
            [
             0.4,
             "#fde0ef"
            ],
            [
             0.5,
             "#f7f7f7"
            ],
            [
             0.6,
             "#e6f5d0"
            ],
            [
             0.7,
             "#b8e186"
            ],
            [
             0.8,
             "#7fbc41"
            ],
            [
             0.9,
             "#4d9221"
            ],
            [
             1,
             "#276419"
            ]
           ],
           "sequential": [
            [
             0,
             "#0d0887"
            ],
            [
             0.1111111111111111,
             "#46039f"
            ],
            [
             0.2222222222222222,
             "#7201a8"
            ],
            [
             0.3333333333333333,
             "#9c179e"
            ],
            [
             0.4444444444444444,
             "#bd3786"
            ],
            [
             0.5555555555555556,
             "#d8576b"
            ],
            [
             0.6666666666666666,
             "#ed7953"
            ],
            [
             0.7777777777777778,
             "#fb9f3a"
            ],
            [
             0.8888888888888888,
             "#fdca26"
            ],
            [
             1,
             "#f0f921"
            ]
           ],
           "sequentialminus": [
            [
             0,
             "#0d0887"
            ],
            [
             0.1111111111111111,
             "#46039f"
            ],
            [
             0.2222222222222222,
             "#7201a8"
            ],
            [
             0.3333333333333333,
             "#9c179e"
            ],
            [
             0.4444444444444444,
             "#bd3786"
            ],
            [
             0.5555555555555556,
             "#d8576b"
            ],
            [
             0.6666666666666666,
             "#ed7953"
            ],
            [
             0.7777777777777778,
             "#fb9f3a"
            ],
            [
             0.8888888888888888,
             "#fdca26"
            ],
            [
             1,
             "#f0f921"
            ]
           ]
          },
          "colorway": [
           "#636efa",
           "#EF553B",
           "#00cc96",
           "#ab63fa",
           "#FFA15A",
           "#19d3f3",
           "#FF6692",
           "#B6E880",
           "#FF97FF",
           "#FECB52"
          ],
          "font": {
           "color": "#2a3f5f"
          },
          "geo": {
           "bgcolor": "white",
           "lakecolor": "white",
           "landcolor": "#E5ECF6",
           "showlakes": true,
           "showland": true,
           "subunitcolor": "white"
          },
          "hoverlabel": {
           "align": "left"
          },
          "hovermode": "closest",
          "mapbox": {
           "style": "light"
          },
          "paper_bgcolor": "white",
          "plot_bgcolor": "#E5ECF6",
          "polar": {
           "angularaxis": {
            "gridcolor": "white",
            "linecolor": "white",
            "ticks": ""
           },
           "bgcolor": "#E5ECF6",
           "radialaxis": {
            "gridcolor": "white",
            "linecolor": "white",
            "ticks": ""
           }
          },
          "scene": {
           "xaxis": {
            "backgroundcolor": "#E5ECF6",
            "gridcolor": "white",
            "gridwidth": 2,
            "linecolor": "white",
            "showbackground": true,
            "ticks": "",
            "zerolinecolor": "white"
           },
           "yaxis": {
            "backgroundcolor": "#E5ECF6",
            "gridcolor": "white",
            "gridwidth": 2,
            "linecolor": "white",
            "showbackground": true,
            "ticks": "",
            "zerolinecolor": "white"
           },
           "zaxis": {
            "backgroundcolor": "#E5ECF6",
            "gridcolor": "white",
            "gridwidth": 2,
            "linecolor": "white",
            "showbackground": true,
            "ticks": "",
            "zerolinecolor": "white"
           }
          },
          "shapedefaults": {
           "line": {
            "color": "#2a3f5f"
           }
          },
          "ternary": {
           "aaxis": {
            "gridcolor": "white",
            "linecolor": "white",
            "ticks": ""
           },
           "baxis": {
            "gridcolor": "white",
            "linecolor": "white",
            "ticks": ""
           },
           "bgcolor": "#E5ECF6",
           "caxis": {
            "gridcolor": "white",
            "linecolor": "white",
            "ticks": ""
           }
          },
          "title": {
           "x": 0.05
          },
          "xaxis": {
           "automargin": true,
           "gridcolor": "white",
           "linecolor": "white",
           "ticks": "",
           "title": {
            "standoff": 15
           },
           "zerolinecolor": "white",
           "zerolinewidth": 2
          },
          "yaxis": {
           "automargin": true,
           "gridcolor": "white",
           "linecolor": "white",
           "ticks": "",
           "title": {
            "standoff": 15
           },
           "zerolinecolor": "white",
           "zerolinewidth": 2
          }
         }
        },
        "title": {
         "text": "TPR and FPR at every threshold"
        },
        "width": 700,
        "xaxis": {
         "anchor": "y",
         "constrain": "domain",
         "domain": [
          0,
          1
         ],
         "range": [
          0,
          1
         ],
         "title": {
          "text": "Thresholds"
         }
        },
        "yaxis": {
         "anchor": "x",
         "domain": [
          0,
          1
         ],
         "scaleanchor": "x",
         "scaleratio": 1,
         "title": {
          "text": "value"
         }
        }
       }
      }
     },
     "metadata": {},
     "output_type": "display_data"
    }
   ],
   "source": [
    "import plotly.express as px\n",
    "import pandas as pd\n",
    "from sklearn.linear_model import LogisticRegression\n",
    "from sklearn.metrics import roc_curve, auc\n",
    "from sklearn.datasets import make_classification\n",
    "\n",
    "test = pd.read_csv(r'test.csv', encoding='utf_8_sig')\n",
    "\n",
    "X = test['message']\n",
    "y = test['label']\n",
    "from commitfit import CommitFitModel\n",
    "model = CommitFitModel.from_pretrained(model_id)\n",
    "model.fit(X, y)\n",
    "y_score = model.predict_proba(X)[:, 1]\n",
    "fpr, tpr, thresholds = roc_curve(y, y_score)\n",
    "\n",
    "\n",
    "# Evaluating model performance at various thresholds\n",
    "df = pd.DataFrame({\n",
    "    'False Positive Rate': fpr,\n",
    "    'True Positive Rate': tpr\n",
    "}, index=thresholds)\n",
    "df.index.name = \"Thresholds\"\n",
    "df.columns.name = \"Rate\"\n",
    "\n",
    "fig_thresh = px.line(\n",
    "    df, title='TPR and FPR at every threshold',\n",
    "    width=700, height=500\n",
    ")\n",
    "\n",
    "fig_thresh.update_yaxes(scaleanchor=\"x\", scaleratio=1)\n",
    "fig_thresh.update_xaxes(range=[0, 1], constrain='domain')\n",
    "fig_thresh.show()"
   ]
  },
  {
   "cell_type": "code",
   "execution_count": 16,
   "metadata": {},
   "outputs": [
    {
     "name": "stdout",
     "output_type": "stream",
     "text": [
      "Looking in indexes: https://pypi.tuna.tsinghua.edu.cn/simple\n",
      "Collecting ipynbname\n",
      "  Downloading https://pypi.tuna.tsinghua.edu.cn/packages/a4/81/c841fc00b2f34f217e34d326e35ab1de3cd17912e8514ae77ceab47a7ed8/ipynbname-2023.1.0.0-py3-none-any.whl (4.3 kB)\n",
      "Requirement already satisfied: ipykernel in c:\\users\\15728\\appdata\\local\\packages\\pythonsoftwarefoundation.python.3.7_qbz5n2kfra8p0\\localcache\\local-packages\\python37\\site-packages (from ipynbname) (6.16.2)\n",
      "Requirement already satisfied: debugpy>=1.0 in c:\\users\\15728\\appdata\\local\\packages\\pythonsoftwarefoundation.python.3.7_qbz5n2kfra8p0\\localcache\\local-packages\\python37\\site-packages (from ipykernel->ipynbname) (1.6.3)\n",
      "Requirement already satisfied: ipython>=7.23.1 in c:\\users\\15728\\appdata\\local\\packages\\pythonsoftwarefoundation.python.3.7_qbz5n2kfra8p0\\localcache\\local-packages\\python37\\site-packages (from ipykernel->ipynbname) (7.34.0)\n",
      "Requirement already satisfied: jupyter-client>=6.1.12 in c:\\users\\15728\\appdata\\local\\packages\\pythonsoftwarefoundation.python.3.7_qbz5n2kfra8p0\\localcache\\local-packages\\python37\\site-packages (from ipykernel->ipynbname) (7.4.5)\n",
      "Requirement already satisfied: matplotlib-inline>=0.1 in c:\\users\\15728\\appdata\\local\\packages\\pythonsoftwarefoundation.python.3.7_qbz5n2kfra8p0\\localcache\\local-packages\\python37\\site-packages (from ipykernel->ipynbname) (0.1.6)\n",
      "Requirement already satisfied: nest-asyncio in c:\\users\\15728\\appdata\\local\\packages\\pythonsoftwarefoundation.python.3.7_qbz5n2kfra8p0\\localcache\\local-packages\\python37\\site-packages (from ipykernel->ipynbname) (1.5.6)\n",
      "Requirement already satisfied: packaging in c:\\users\\15728\\appdata\\local\\packages\\pythonsoftwarefoundation.python.3.7_qbz5n2kfra8p0\\localcache\\local-packages\\python37\\site-packages (from ipykernel->ipynbname) (21.3)\n",
      "Requirement already satisfied: psutil in c:\\users\\15728\\appdata\\local\\packages\\pythonsoftwarefoundation.python.3.7_qbz5n2kfra8p0\\localcache\\local-packages\\python37\\site-packages (from ipykernel->ipynbname) (5.9.4)\n",
      "Requirement already satisfied: pyzmq>=17 in c:\\users\\15728\\appdata\\local\\packages\\pythonsoftwarefoundation.python.3.7_qbz5n2kfra8p0\\localcache\\local-packages\\python37\\site-packages (from ipykernel->ipynbname) (24.0.1)\n",
      "Requirement already satisfied: tornado>=6.1 in c:\\users\\15728\\appdata\\local\\packages\\pythonsoftwarefoundation.python.3.7_qbz5n2kfra8p0\\localcache\\local-packages\\python37\\site-packages (from ipykernel->ipynbname) (6.2)\n",
      "Requirement already satisfied: traitlets>=5.1.0 in c:\\users\\15728\\appdata\\local\\packages\\pythonsoftwarefoundation.python.3.7_qbz5n2kfra8p0\\localcache\\local-packages\\python37\\site-packages (from ipykernel->ipynbname) (5.5.0)\n",
      "Requirement already satisfied: setuptools>=18.5 in c:\\program files\\windowsapps\\pythonsoftwarefoundation.python.3.7_3.7.2544.0_x64__qbz5n2kfra8p0\\lib\\site-packages (from ipython>=7.23.1->ipykernel->ipynbname) (47.1.0)\n",
      "Requirement already satisfied: jedi>=0.16 in c:\\users\\15728\\appdata\\local\\packages\\pythonsoftwarefoundation.python.3.7_qbz5n2kfra8p0\\localcache\\local-packages\\python37\\site-packages (from ipython>=7.23.1->ipykernel->ipynbname) (0.18.1)\n",
      "Requirement already satisfied: decorator in c:\\users\\15728\\appdata\\local\\packages\\pythonsoftwarefoundation.python.3.7_qbz5n2kfra8p0\\localcache\\local-packages\\python37\\site-packages (from ipython>=7.23.1->ipykernel->ipynbname) (5.1.1)\n",
      "Requirement already satisfied: pickleshare in c:\\users\\15728\\appdata\\local\\packages\\pythonsoftwarefoundation.python.3.7_qbz5n2kfra8p0\\localcache\\local-packages\\python37\\site-packages (from ipython>=7.23.1->ipykernel->ipynbname) (0.7.5)\n",
      "Requirement already satisfied: prompt-toolkit!=3.0.0,!=3.0.1,<3.1.0,>=2.0.0 in c:\\users\\15728\\appdata\\local\\packages\\pythonsoftwarefoundation.python.3.7_qbz5n2kfra8p0\\localcache\\local-packages\\python37\\site-packages (from ipython>=7.23.1->ipykernel->ipynbname) (3.0.32)\n",
      "Requirement already satisfied: pygments in c:\\users\\15728\\appdata\\local\\packages\\pythonsoftwarefoundation.python.3.7_qbz5n2kfra8p0\\localcache\\local-packages\\python37\\site-packages (from ipython>=7.23.1->ipykernel->ipynbname) (2.13.0)\n",
      "Requirement already satisfied: backcall in c:\\users\\15728\\appdata\\local\\packages\\pythonsoftwarefoundation.python.3.7_qbz5n2kfra8p0\\localcache\\local-packages\\python37\\site-packages (from ipython>=7.23.1->ipykernel->ipynbname) (0.2.0)\n",
      "Requirement already satisfied: colorama in c:\\users\\15728\\appdata\\local\\packages\\pythonsoftwarefoundation.python.3.7_qbz5n2kfra8p0\\localcache\\local-packages\\python37\\site-packages (from ipython>=7.23.1->ipykernel->ipynbname) (0.4.6)\n",
      "Requirement already satisfied: entrypoints in c:\\users\\15728\\appdata\\local\\packages\\pythonsoftwarefoundation.python.3.7_qbz5n2kfra8p0\\localcache\\local-packages\\python37\\site-packages (from jupyter-client>=6.1.12->ipykernel->ipynbname) (0.4)\n",
      "Requirement already satisfied: jupyter-core>=4.9.2 in c:\\users\\15728\\appdata\\local\\packages\\pythonsoftwarefoundation.python.3.7_qbz5n2kfra8p0\\localcache\\local-packages\\python37\\site-packages (from jupyter-client>=6.1.12->ipykernel->ipynbname) (4.11.2)\n",
      "Requirement already satisfied: python-dateutil>=2.8.2 in c:\\users\\15728\\appdata\\local\\packages\\pythonsoftwarefoundation.python.3.7_qbz5n2kfra8p0\\localcache\\local-packages\\python37\\site-packages (from jupyter-client>=6.1.12->ipykernel->ipynbname) (2.8.2)\n",
      "Requirement already satisfied: pyparsing!=3.0.5,>=2.0.2 in c:\\users\\15728\\appdata\\local\\packages\\pythonsoftwarefoundation.python.3.7_qbz5n2kfra8p0\\localcache\\local-packages\\python37\\site-packages (from packaging->ipykernel->ipynbname) (3.0.9)\n",
      "Requirement already satisfied: parso<0.9.0,>=0.8.0 in c:\\users\\15728\\appdata\\local\\packages\\pythonsoftwarefoundation.python.3.7_qbz5n2kfra8p0\\localcache\\local-packages\\python37\\site-packages (from jedi>=0.16->ipython>=7.23.1->ipykernel->ipynbname) (0.8.3)\n",
      "Requirement already satisfied: pywin32>=1.0 in c:\\users\\15728\\appdata\\local\\packages\\pythonsoftwarefoundation.python.3.7_qbz5n2kfra8p0\\localcache\\local-packages\\python37\\site-packages (from jupyter-core>=4.9.2->jupyter-client>=6.1.12->ipykernel->ipynbname) (305)\n",
      "Requirement already satisfied: wcwidth in c:\\users\\15728\\appdata\\local\\packages\\pythonsoftwarefoundation.python.3.7_qbz5n2kfra8p0\\localcache\\local-packages\\python37\\site-packages (from prompt-toolkit!=3.0.0,!=3.0.1,<3.1.0,>=2.0.0->ipython>=7.23.1->ipykernel->ipynbname) (0.2.5)\n",
      "Requirement already satisfied: six>=1.5 in c:\\users\\15728\\appdata\\local\\packages\\pythonsoftwarefoundation.python.3.7_qbz5n2kfra8p0\\localcache\\local-packages\\python37\\site-packages (from python-dateutil>=2.8.2->jupyter-client>=6.1.12->ipykernel->ipynbname) (1.15.0)\n",
      "Installing collected packages: ipynbname\n",
      "Successfully installed ipynbname-2023.1.0.0\n"
     ]
    },
    {
     "name": "stderr",
     "output_type": "stream",
     "text": [
      "--- Logging error ---\n",
      "Traceback (most recent call last):\n",
      "  File \"C:\\Users\\15728\\AppData\\Local\\Packages\\PythonSoftwareFoundation.Python.3.7_qbz5n2kfra8p0\\LocalCache\\local-packages\\Python37\\site-packages\\pip\\_internal\\utils\\logging.py\", line 177, in emit\n",
      "    self.console.print(renderable, overflow=\"ignore\", crop=False, style=style)\n",
      "  File \"C:\\Users\\15728\\AppData\\Local\\Packages\\PythonSoftwareFoundation.Python.3.7_qbz5n2kfra8p0\\LocalCache\\local-packages\\Python37\\site-packages\\pip\\_vendor\\rich\\console.py\", line 1698, in print\n",
      "    extend(render(renderable, render_options))\n",
      "  File \"C:\\Users\\15728\\AppData\\Local\\Packages\\PythonSoftwareFoundation.Python.3.7_qbz5n2kfra8p0\\LocalCache\\local-packages\\Python37\\site-packages\\pip\\_vendor\\rich\\console.py\", line 1330, in render\n",
      "    for render_output in iter_render:\n",
      "  File \"C:\\Users\\15728\\AppData\\Local\\Packages\\PythonSoftwareFoundation.Python.3.7_qbz5n2kfra8p0\\LocalCache\\local-packages\\Python37\\site-packages\\pip\\_internal\\utils\\logging.py\", line 134, in __rich_console__\n",
      "    for line in lines:\n",
      "  File \"C:\\Users\\15728\\AppData\\Local\\Packages\\PythonSoftwareFoundation.Python.3.7_qbz5n2kfra8p0\\LocalCache\\local-packages\\Python37\\site-packages\\pip\\_vendor\\rich\\segment.py\", line 249, in split_lines\n",
      "    for segment in segments:\n",
      "  File \"C:\\Users\\15728\\AppData\\Local\\Packages\\PythonSoftwareFoundation.Python.3.7_qbz5n2kfra8p0\\LocalCache\\local-packages\\Python37\\site-packages\\pip\\_vendor\\rich\\console.py\", line 1308, in render\n",
      "    renderable = rich_cast(renderable)\n",
      "  File \"C:\\Users\\15728\\AppData\\Local\\Packages\\PythonSoftwareFoundation.Python.3.7_qbz5n2kfra8p0\\LocalCache\\local-packages\\Python37\\site-packages\\pip\\_vendor\\rich\\protocol.py\", line 36, in rich_cast\n",
      "    renderable = cast_method()\n",
      "  File \"C:\\Users\\15728\\AppData\\Local\\Packages\\PythonSoftwareFoundation.Python.3.7_qbz5n2kfra8p0\\LocalCache\\local-packages\\Python37\\site-packages\\pip\\_internal\\self_outdated_check.py\", line 128, in __rich__\n",
      "    pip_cmd = f\"{get_best_invocation_for_this_python()} -m pip\"\n",
      "  File \"C:\\Users\\15728\\AppData\\Local\\Packages\\PythonSoftwareFoundation.Python.3.7_qbz5n2kfra8p0\\LocalCache\\local-packages\\Python37\\site-packages\\pip\\_internal\\utils\\entrypoints.py\", line 80, in get_best_invocation_for_this_python\n",
      "    if found_executable and os.path.samefile(found_executable, exe):\n",
      "  File \"C:\\Program Files\\WindowsApps\\PythonSoftwareFoundation.Python.3.7_3.7.2544.0_x64__qbz5n2kfra8p0\\lib\\genericpath.py\", line 101, in samefile\n",
      "    s2 = os.stat(f2)\n",
      "OSError: [WinError 1920] 系统无法访问此文件。: 'C:\\\\Users\\\\15728\\\\AppData\\\\Local\\\\Microsoft\\\\WindowsApps\\\\PythonSoftwareFoundation.Python.3.7_qbz5n2kfra8p0\\\\python.exe'\n",
      "Call stack:\n",
      "  File \"C:\\Program Files\\WindowsApps\\PythonSoftwareFoundation.Python.3.7_3.7.2544.0_x64__qbz5n2kfra8p0\\lib\\runpy.py\", line 193, in _run_module_as_main\n",
      "    \"__main__\", mod_spec)\n",
      "  File \"C:\\Program Files\\WindowsApps\\PythonSoftwareFoundation.Python.3.7_3.7.2544.0_x64__qbz5n2kfra8p0\\lib\\runpy.py\", line 85, in _run_code\n",
      "    exec(code, run_globals)\n",
      "  File \"C:\\Users\\15728\\AppData\\Local\\Packages\\PythonSoftwareFoundation.Python.3.7_qbz5n2kfra8p0\\LocalCache\\local-packages\\Python37\\site-packages\\pip\\__main__.py\", line 31, in <module>\n",
      "    sys.exit(_main())\n",
      "  File \"C:\\Users\\15728\\AppData\\Local\\Packages\\PythonSoftwareFoundation.Python.3.7_qbz5n2kfra8p0\\LocalCache\\local-packages\\Python37\\site-packages\\pip\\_internal\\cli\\main.py\", line 70, in main\n",
      "    return command.main(cmd_args)\n",
      "  File \"C:\\Users\\15728\\AppData\\Local\\Packages\\PythonSoftwareFoundation.Python.3.7_qbz5n2kfra8p0\\LocalCache\\local-packages\\Python37\\site-packages\\pip\\_internal\\cli\\base_command.py\", line 101, in main\n",
      "    return self._main(args)\n",
      "  File \"C:\\Users\\15728\\AppData\\Local\\Packages\\PythonSoftwareFoundation.Python.3.7_qbz5n2kfra8p0\\LocalCache\\local-packages\\Python37\\site-packages\\pip\\_internal\\cli\\base_command.py\", line 225, in _main\n",
      "    self.handle_pip_version_check(options)\n",
      "  File \"C:\\Users\\15728\\AppData\\Local\\Packages\\PythonSoftwareFoundation.Python.3.7_qbz5n2kfra8p0\\LocalCache\\local-packages\\Python37\\site-packages\\pip\\_internal\\cli\\req_command.py\", line 191, in handle_pip_version_check\n",
      "    pip_self_version_check(session, options)\n",
      "  File \"C:\\Users\\15728\\AppData\\Local\\Packages\\PythonSoftwareFoundation.Python.3.7_qbz5n2kfra8p0\\LocalCache\\local-packages\\Python37\\site-packages\\pip\\_internal\\self_outdated_check.py\", line 239, in pip_self_version_check\n",
      "    logger.warning(\"[present-rich] %s\", upgrade_prompt)\n",
      "  File \"C:\\Program Files\\WindowsApps\\PythonSoftwareFoundation.Python.3.7_3.7.2544.0_x64__qbz5n2kfra8p0\\lib\\logging\\__init__.py\", line 1390, in warning\n",
      "    self._log(WARNING, msg, args, **kwargs)\n",
      "  File \"C:\\Program Files\\WindowsApps\\PythonSoftwareFoundation.Python.3.7_3.7.2544.0_x64__qbz5n2kfra8p0\\lib\\logging\\__init__.py\", line 1514, in _log\n",
      "    self.handle(record)\n",
      "  File \"C:\\Program Files\\WindowsApps\\PythonSoftwareFoundation.Python.3.7_3.7.2544.0_x64__qbz5n2kfra8p0\\lib\\logging\\__init__.py\", line 1524, in handle\n",
      "    self.callHandlers(record)\n",
      "  File \"C:\\Program Files\\WindowsApps\\PythonSoftwareFoundation.Python.3.7_3.7.2544.0_x64__qbz5n2kfra8p0\\lib\\logging\\__init__.py\", line 1586, in callHandlers\n",
      "    hdlr.handle(record)\n",
      "  File \"C:\\Program Files\\WindowsApps\\PythonSoftwareFoundation.Python.3.7_3.7.2544.0_x64__qbz5n2kfra8p0\\lib\\logging\\__init__.py\", line 894, in handle\n",
      "    self.emit(record)\n",
      "  File \"C:\\Users\\15728\\AppData\\Local\\Packages\\PythonSoftwareFoundation.Python.3.7_qbz5n2kfra8p0\\LocalCache\\local-packages\\Python37\\site-packages\\pip\\_internal\\utils\\logging.py\", line 179, in emit\n",
      "    self.handleError(record)\n",
      "Message: '[present-rich] %s'\n",
      "Arguments: (UpgradePrompt(old='23.1', new='23.2'),)\n"
     ]
    },
    {
     "ename": "FileNotFoundError",
     "evalue": "Can't identify the notebook name.",
     "output_type": "error",
     "traceback": [
      "\u001b[1;31m---------------------------------------------------------------------------\u001b[0m",
      "\u001b[1;31mFileNotFoundError\u001b[0m                         Traceback (most recent call last)",
      "\u001b[1;32m~\\AppData\\Local\\Temp\\ipykernel_39756\\132378552.py\u001b[0m in \u001b[0;36m<module>\u001b[1;34m\u001b[0m\n\u001b[0;32m      1\u001b[0m \u001b[0mget_ipython\u001b[0m\u001b[1;33m(\u001b[0m\u001b[1;33m)\u001b[0m\u001b[1;33m.\u001b[0m\u001b[0msystem\u001b[0m\u001b[1;33m(\u001b[0m\u001b[1;34m'pip install ipynbname'\u001b[0m\u001b[1;33m)\u001b[0m\u001b[1;33m\u001b[0m\u001b[1;33m\u001b[0m\u001b[0m\n\u001b[0;32m      2\u001b[0m \u001b[1;32mimport\u001b[0m \u001b[0mipynbname\u001b[0m\u001b[1;33m\u001b[0m\u001b[1;33m\u001b[0m\u001b[0m\n\u001b[1;32m----> 3\u001b[1;33m \u001b[0mnb_fname\u001b[0m \u001b[1;33m=\u001b[0m \u001b[0mipynbname\u001b[0m\u001b[1;33m.\u001b[0m\u001b[0mname\u001b[0m\u001b[1;33m(\u001b[0m\u001b[1;33m)\u001b[0m\u001b[1;33m\u001b[0m\u001b[1;33m\u001b[0m\u001b[0m\n\u001b[0m\u001b[0;32m      4\u001b[0m \u001b[0mnb_path\u001b[0m \u001b[1;33m=\u001b[0m \u001b[0mipynbname\u001b[0m\u001b[1;33m.\u001b[0m\u001b[0mpath\u001b[0m\u001b[1;33m(\u001b[0m\u001b[1;33m)\u001b[0m\u001b[1;33m\u001b[0m\u001b[1;33m\u001b[0m\u001b[0m\n",
      "\u001b[1;32m~\\AppData\\Local\\Packages\\PythonSoftwareFoundation.Python.3.7_qbz5n2kfra8p0\\LocalCache\\local-packages\\Python37\\site-packages\\ipynbname\\__init__.py\u001b[0m in \u001b[0;36mname\u001b[1;34m()\u001b[0m\n\u001b[0;32m     94\u001b[0m     \u001b[1;32mif\u001b[0m \u001b[0mpath\u001b[0m\u001b[1;33m:\u001b[0m\u001b[1;33m\u001b[0m\u001b[1;33m\u001b[0m\u001b[0m\n\u001b[0;32m     95\u001b[0m         \u001b[1;32mreturn\u001b[0m \u001b[0mpath\u001b[0m\u001b[1;33m.\u001b[0m\u001b[0mstem\u001b[0m\u001b[1;33m\u001b[0m\u001b[1;33m\u001b[0m\u001b[0m\n\u001b[1;32m---> 96\u001b[1;33m     \u001b[1;32mraise\u001b[0m \u001b[0mFileNotFoundError\u001b[0m\u001b[1;33m(\u001b[0m\u001b[0mFILE_ERROR\u001b[0m\u001b[1;33m.\u001b[0m\u001b[0mformat\u001b[0m\u001b[1;33m(\u001b[0m\u001b[1;34m'name'\u001b[0m\u001b[1;33m)\u001b[0m\u001b[1;33m)\u001b[0m\u001b[1;33m\u001b[0m\u001b[1;33m\u001b[0m\u001b[0m\n\u001b[0m\u001b[0;32m     97\u001b[0m \u001b[1;33m\u001b[0m\u001b[0m\n\u001b[0;32m     98\u001b[0m \u001b[1;33m\u001b[0m\u001b[0m\n",
      "\u001b[1;31mFileNotFoundError\u001b[0m: Can't identify the notebook name."
     ]
    }
   ],
   "source": [
    "!pip install ipynbname\n",
    "import ipynbname\n",
    "nb_fname = ipynbname.name()\n",
    "nb_path = ipynbname.path()"
   ]
  },
  {
   "cell_type": "code",
   "execution_count": 13,
   "metadata": {},
   "outputs": [
    {
     "data": {
      "text/plain": [
       "''"
      ]
     },
     "execution_count": 13,
     "metadata": {},
     "output_type": "execute_result"
    }
   ],
   "source": [
    "currentNotebook"
   ]
  },
  {
   "cell_type": "code",
   "execution_count": null,
   "metadata": {},
   "outputs": [],
   "source": []
  }
 ],
 "metadata": {
  "kernelspec": {
   "display_name": "Python 3",
   "language": "python",
   "name": "python3"
  },
  "language_info": {
   "codemirror_mode": {
    "name": "ipython",
    "version": 3
   },
   "file_extension": ".py",
   "mimetype": "text/x-python",
   "name": "python",
   "nbconvert_exporter": "python",
   "pygments_lexer": "ipython3",
   "version": "3.7.9"
  },
  "orig_nbformat": 4
 },
 "nbformat": 4,
 "nbformat_minor": 2
}
