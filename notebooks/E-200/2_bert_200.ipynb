version https://git-lfs.github.com/spec/v1
oid sha256:d45266aa7a4ab944709f15635f38ed600f8c73be90a26966678fcd1f3a8000fe
size 172023
