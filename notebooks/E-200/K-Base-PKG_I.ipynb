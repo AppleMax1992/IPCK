version https://git-lfs.github.com/spec/v1
oid sha256:4b53e3b79fdf565cade66606eefe9dfaa494d3d8afab9795f73f7e4d2da6e8af
size 79950
