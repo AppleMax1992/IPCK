version https://git-lfs.github.com/spec/v1
oid sha256:6bc3cb536fa45282ec3b66b99452be0e24e410ef50b5c5e32f5349a0dd11ae3a
size 71872
