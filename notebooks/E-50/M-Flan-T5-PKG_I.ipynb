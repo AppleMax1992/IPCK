version https://git-lfs.github.com/spec/v1
oid sha256:cce13d34124d0e785a50ec66268dd8b6e4ce1d63a366061761b4a65a3660671b
size 68937
