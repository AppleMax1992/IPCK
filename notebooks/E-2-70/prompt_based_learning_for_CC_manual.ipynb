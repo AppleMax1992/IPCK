version https://git-lfs.github.com/spec/v1
oid sha256:4f689ff8f902d8284a158a151812d64c98cba7a60fca0ceee898d69571d8ee1a
size 136229
