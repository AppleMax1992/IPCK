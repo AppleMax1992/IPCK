version https://git-lfs.github.com/spec/v1
oid sha256:22b71b8744b08176c8396314810a6ceba3d997be3117ae6591299325e32babd6
size 6066
