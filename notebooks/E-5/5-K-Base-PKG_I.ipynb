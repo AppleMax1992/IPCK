version https://git-lfs.github.com/spec/v1
oid sha256:9e3e18fc24a40a3b6f9a94d7db38001a1f7eccf5232fa89abb84f12d53297995
size 74829
