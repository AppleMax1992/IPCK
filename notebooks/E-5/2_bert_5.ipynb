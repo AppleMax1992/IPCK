version https://git-lfs.github.com/spec/v1
oid sha256:4793821d78e83759ab6770c0f0cb28cf1b18326d4fac5a8fbd65d9d7ace3ef14
size 158198
