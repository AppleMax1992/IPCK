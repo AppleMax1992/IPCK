version https://git-lfs.github.com/spec/v1
oid sha256:d0fc593d6fd7198b5f8a169ccce30e22ba21213a80f71d8fb86ee6c508a56812
size 5695
