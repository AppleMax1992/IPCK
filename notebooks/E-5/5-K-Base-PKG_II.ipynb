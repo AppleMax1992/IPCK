version https://git-lfs.github.com/spec/v1
oid sha256:2382ddaa204101cde5b53e7229dc81c94fd671b4543f80421535a5424af640cd
size 77767
