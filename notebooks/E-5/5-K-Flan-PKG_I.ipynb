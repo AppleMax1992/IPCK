version https://git-lfs.github.com/spec/v1
oid sha256:218359e74721017ce1f5c42a1408e1800306504269713e85544e1d1bae0dc5ab
size 73757
