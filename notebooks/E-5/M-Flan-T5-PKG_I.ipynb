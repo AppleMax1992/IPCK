version https://git-lfs.github.com/spec/v1
oid sha256:35b751948aed62afc485177d1ca4c5b2a76f176dea5b969099147b5e955c972b
size 70603
