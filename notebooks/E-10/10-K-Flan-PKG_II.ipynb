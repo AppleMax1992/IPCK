version https://git-lfs.github.com/spec/v1
oid sha256:3f29ac65af2cd22e6e0cff0c4757f9ce9a36993cd9b6b66376c7aae5717ca0eb
size 80245
