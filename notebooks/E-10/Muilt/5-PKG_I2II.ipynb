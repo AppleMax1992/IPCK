version https://git-lfs.github.com/spec/v1
oid sha256:1d4e5201fc125a39a6a7146eab6fbd8f1844bb35c475176e65ae15701c8f0a52
size 74561
