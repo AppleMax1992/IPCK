version https://git-lfs.github.com/spec/v1
oid sha256:7f74eeed7b75711eff4beea9d3d551d1a33d1fc5f2182bd7908aaa36cd6a0bc8
size 70946
