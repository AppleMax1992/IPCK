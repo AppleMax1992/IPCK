version https://git-lfs.github.com/spec/v1
oid sha256:d9269aadef40bb43bb806faf4fb089a364deb00d8861fb8620d333ea95c1a3d3
size 78135
