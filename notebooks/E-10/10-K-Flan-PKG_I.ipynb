version https://git-lfs.github.com/spec/v1
oid sha256:a787b2e4c0f0f7ee3715ddfd9f3193f69511a05be6ff162e725f06a2f3e0ad76
size 77883
