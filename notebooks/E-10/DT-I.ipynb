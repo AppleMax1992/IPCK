version https://git-lfs.github.com/spec/v1
oid sha256:84a057e94aac46cd7026bb457f8376f146814bbe387fb3b9b3cf83d9c4eec54f
size 4655
