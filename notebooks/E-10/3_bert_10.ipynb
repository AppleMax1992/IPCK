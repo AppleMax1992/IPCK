version https://git-lfs.github.com/spec/v1
oid sha256:13fcabb2152dbec19b8c1bbc2ba7a7a40b8d93d1084f288718119c0925829ba0
size 134946
