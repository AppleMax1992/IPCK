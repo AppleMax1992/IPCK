version https://git-lfs.github.com/spec/v1
oid sha256:fdc7a0333fe9d4137c80328b37543f53ca7af33aca657c74a074be4848d23add
size 4300
