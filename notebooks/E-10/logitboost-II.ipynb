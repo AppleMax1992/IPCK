version https://git-lfs.github.com/spec/v1
oid sha256:9e60458b10dfa137be4aa67371c376b1cf706a8ef97c78d729ce09e35e4882b4
size 4694
