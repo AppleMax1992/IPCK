version https://git-lfs.github.com/spec/v1
oid sha256:a9a875d1d51b404e41334439d56e8274328a44b50c368d0c31c93d843f1626db
size 24712
