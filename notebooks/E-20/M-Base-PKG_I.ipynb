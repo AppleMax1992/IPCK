version https://git-lfs.github.com/spec/v1
oid sha256:359ed26ef036d072ee3d93f4ed67ff7f746e754a9f8fea0f1509c6c59adb8d3c
size 83255
