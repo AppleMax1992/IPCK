version https://git-lfs.github.com/spec/v1
oid sha256:e1a134ebc59359d62fc683f9d3d65b9c4777169e238a66e1be9cf35fbb4f7409
size 87413
