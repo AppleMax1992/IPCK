version https://git-lfs.github.com/spec/v1
oid sha256:5164a2aa1b0915be7e6642417e20e8899bd4dfc31e1114d4cc553f2540a95ca6
size 64800
