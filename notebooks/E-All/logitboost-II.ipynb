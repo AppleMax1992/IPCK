version https://git-lfs.github.com/spec/v1
oid sha256:48945464030bfa1e4818232ce9d00a5078a1b05cc1dd02513647037b897a40ac
size 3736
