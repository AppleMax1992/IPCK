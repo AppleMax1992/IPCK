version https://git-lfs.github.com/spec/v1
oid sha256:f741372f117e425951d21be60baf4ef3d52f111e47aa99cc983715ad8fc94e27
size 136910
