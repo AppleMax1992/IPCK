version https://git-lfs.github.com/spec/v1
oid sha256:2fd6cbb88c8748aa78c9c14c6e7c16163b7c01928a190ac7a5c9e49ec6ffdf83
size 136299
