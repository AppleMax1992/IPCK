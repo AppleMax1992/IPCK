version https://git-lfs.github.com/spec/v1
oid sha256:e67148d83b4c3ed13c47538dedfc521f96db55d625dca8c6a1d3834e05ea8d61
size 78854
