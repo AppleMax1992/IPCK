version https://git-lfs.github.com/spec/v1
oid sha256:1c909dfa28e50287469fefb4036f00e818feb80cb2083363a3f9ec29b5073aee
size 74761
