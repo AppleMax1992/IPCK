version https://git-lfs.github.com/spec/v1
oid sha256:8eea9e1d6d750cf3b6fa8f9388b56cfb4dc8673f30d6b0acbff1a21eec3bf1f2
size 148328
