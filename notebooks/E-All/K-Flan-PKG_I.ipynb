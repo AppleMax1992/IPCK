version https://git-lfs.github.com/spec/v1
oid sha256:40e93eed8fdfc217c16cc5d5ab565378c9a3f3afe1e188f9e1c3654095a3a511
size 126587
