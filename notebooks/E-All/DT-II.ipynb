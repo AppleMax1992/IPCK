version https://git-lfs.github.com/spec/v1
oid sha256:6860e0e6f462834966e22e16e8e230e206e89978a0f19dc972606083470e13f2
size 13522
