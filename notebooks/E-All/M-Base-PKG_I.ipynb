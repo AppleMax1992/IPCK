version https://git-lfs.github.com/spec/v1
oid sha256:6707cecb9fc896acc574c4efbb48bac7b53d70d6da50c650bd4b8531ee7441b7
size 80235
