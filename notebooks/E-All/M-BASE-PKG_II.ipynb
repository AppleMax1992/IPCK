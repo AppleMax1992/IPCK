version https://git-lfs.github.com/spec/v1
oid sha256:f953a97c993b4461e431441ce33738cfbba600d45f0d8d46544aa9649863ee22
size 84576
