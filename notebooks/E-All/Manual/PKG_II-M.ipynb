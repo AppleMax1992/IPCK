version https://git-lfs.github.com/spec/v1
oid sha256:3a32af6347837d004ef3b9f9591ccd9f5b2aa897792e93333ee06121419b3c93
size 73125
