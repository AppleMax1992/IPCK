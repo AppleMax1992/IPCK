version https://git-lfs.github.com/spec/v1
oid sha256:fa6b5e11a21a254fd073ce764aa4bd49cbee5f144284fab743810f8593951fb5
size 74185
