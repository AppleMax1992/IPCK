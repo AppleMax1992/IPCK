version https://git-lfs.github.com/spec/v1
oid sha256:c019f92f1709ac27a24ea3512f0e5785918d204813efb7d83dfcd7fb404c76a1
size 78435
