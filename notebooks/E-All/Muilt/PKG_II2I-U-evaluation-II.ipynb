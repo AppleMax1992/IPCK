version https://git-lfs.github.com/spec/v1
oid sha256:7e19c65583e903dcceb2ac3a5b5821c2bdd1b06f4ae381fef91a5ce835567c47
size 66711
