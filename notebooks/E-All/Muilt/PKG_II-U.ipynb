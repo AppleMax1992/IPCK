version https://git-lfs.github.com/spec/v1
oid sha256:58310d24c5f07d661eeb2f519a8b3a27780e7bc0366cec117047743d6cf4464c
size 77703
