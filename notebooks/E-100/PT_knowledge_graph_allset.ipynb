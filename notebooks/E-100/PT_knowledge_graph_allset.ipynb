{
  "cells": [
    {
      "cell_type": "code",
      "execution_count": 1,
      "metadata": {
        "colab": {
          "base_uri": "https://localhost:8080/"
        },
        "id": "JG4lmLOLa8fb",
        "outputId": "4ff47466-a219-4baa-97b5-be47f9181ca9"
      },
      "outputs": [
        {
          "name": "stdout",
          "output_type": "stream",
          "text": [
            "Requirement already satisfied: transformers in /usr/local/lib/python3.10/dist-packages (4.31.0)\n",
            "Requirement already satisfied: accelerate in /usr/local/lib/python3.10/dist-packages (0.21.0)\n",
            "Requirement already satisfied: filelock in /usr/local/lib/python3.10/dist-packages (from transformers) (3.12.2)\n",
            "Requirement already satisfied: huggingface-hub<1.0,>=0.14.1 in /usr/local/lib/python3.10/dist-packages (from transformers) (0.16.4)\n",
            "Requirement already satisfied: numpy>=1.17 in /usr/local/lib/python3.10/dist-packages (from transformers) (1.22.4)\n",
            "Requirement already satisfied: packaging>=20.0 in /usr/local/lib/python3.10/dist-packages (from transformers) (23.1)\n",
            "Requirement already satisfied: pyyaml>=5.1 in /usr/local/lib/python3.10/dist-packages (from transformers) (6.0.1)\n",
            "Requirement already satisfied: regex!=2019.12.17 in /usr/local/lib/python3.10/dist-packages (from transformers) (2022.10.31)\n",
            "Requirement already satisfied: requests in /usr/local/lib/python3.10/dist-packages (from transformers) (2.27.1)\n",
            "Requirement already satisfied: tokenizers!=0.11.3,<0.14,>=0.11.1 in /usr/local/lib/python3.10/dist-packages (from transformers) (0.13.3)\n",
            "Requirement already satisfied: safetensors>=0.3.1 in /usr/local/lib/python3.10/dist-packages (from transformers) (0.3.1)\n",
            "Requirement already satisfied: tqdm>=4.27 in /usr/local/lib/python3.10/dist-packages (from transformers) (4.65.0)\n",
            "Requirement already satisfied: psutil in /usr/local/lib/python3.10/dist-packages (from accelerate) (5.9.5)\n",
            "Requirement already satisfied: torch>=1.10.0 in /usr/local/lib/python3.10/dist-packages (from accelerate) (2.0.1+cu118)\n",
            "Requirement already satisfied: fsspec in /usr/local/lib/python3.10/dist-packages (from huggingface-hub<1.0,>=0.14.1->transformers) (2023.6.0)\n",
            "Requirement already satisfied: typing-extensions>=3.7.4.3 in /usr/local/lib/python3.10/dist-packages (from huggingface-hub<1.0,>=0.14.1->transformers) (4.7.1)\n",
            "Requirement already satisfied: sympy in /usr/local/lib/python3.10/dist-packages (from torch>=1.10.0->accelerate) (1.11.1)\n",
            "Requirement already satisfied: networkx in /usr/local/lib/python3.10/dist-packages (from torch>=1.10.0->accelerate) (3.1)\n",
            "Requirement already satisfied: jinja2 in /usr/local/lib/python3.10/dist-packages (from torch>=1.10.0->accelerate) (3.1.2)\n",
            "Requirement already satisfied: triton==2.0.0 in /usr/local/lib/python3.10/dist-packages (from torch>=1.10.0->accelerate) (2.0.0)\n",
            "Requirement already satisfied: cmake in /usr/local/lib/python3.10/dist-packages (from triton==2.0.0->torch>=1.10.0->accelerate) (3.25.2)\n",
            "Requirement already satisfied: lit in /usr/local/lib/python3.10/dist-packages (from triton==2.0.0->torch>=1.10.0->accelerate) (16.0.6)\n",
            "Requirement already satisfied: urllib3<1.27,>=1.21.1 in /usr/local/lib/python3.10/dist-packages (from requests->transformers) (1.26.16)\n",
            "Requirement already satisfied: certifi>=2017.4.17 in /usr/local/lib/python3.10/dist-packages (from requests->transformers) (2023.7.22)\n",
            "Requirement already satisfied: charset-normalizer~=2.0.0 in /usr/local/lib/python3.10/dist-packages (from requests->transformers) (2.0.12)\n",
            "Requirement already satisfied: idna<4,>=2.5 in /usr/local/lib/python3.10/dist-packages (from requests->transformers) (3.4)\n",
            "Requirement already satisfied: MarkupSafe>=2.0 in /usr/local/lib/python3.10/dist-packages (from jinja2->torch>=1.10.0->accelerate) (2.1.3)\n",
            "Requirement already satisfied: mpmath>=0.19 in /usr/local/lib/python3.10/dist-packages (from sympy->torch>=1.10.0->accelerate) (1.3.0)\n",
            "Requirement already satisfied: transformers[sentencepiece] in /usr/local/lib/python3.10/dist-packages (4.31.0)\n",
            "Requirement already satisfied: filelock in /usr/local/lib/python3.10/dist-packages (from transformers[sentencepiece]) (3.12.2)\n",
            "Requirement already satisfied: huggingface-hub<1.0,>=0.14.1 in /usr/local/lib/python3.10/dist-packages (from transformers[sentencepiece]) (0.16.4)\n",
            "Requirement already satisfied: numpy>=1.17 in /usr/local/lib/python3.10/dist-packages (from transformers[sentencepiece]) (1.22.4)\n",
            "Requirement already satisfied: packaging>=20.0 in /usr/local/lib/python3.10/dist-packages (from transformers[sentencepiece]) (23.1)\n",
            "Requirement already satisfied: pyyaml>=5.1 in /usr/local/lib/python3.10/dist-packages (from transformers[sentencepiece]) (6.0.1)\n",
            "Requirement already satisfied: regex!=2019.12.17 in /usr/local/lib/python3.10/dist-packages (from transformers[sentencepiece]) (2022.10.31)\n",
            "Requirement already satisfied: requests in /usr/local/lib/python3.10/dist-packages (from transformers[sentencepiece]) (2.27.1)\n",
            "Requirement already satisfied: tokenizers!=0.11.3,<0.14,>=0.11.1 in /usr/local/lib/python3.10/dist-packages (from transformers[sentencepiece]) (0.13.3)\n",
            "Requirement already satisfied: safetensors>=0.3.1 in /usr/local/lib/python3.10/dist-packages (from transformers[sentencepiece]) (0.3.1)\n",
            "Requirement already satisfied: tqdm>=4.27 in /usr/local/lib/python3.10/dist-packages (from transformers[sentencepiece]) (4.65.0)\n",
            "Requirement already satisfied: sentencepiece!=0.1.92,>=0.1.91 in /usr/local/lib/python3.10/dist-packages (from transformers[sentencepiece]) (0.1.96)\n",
            "Requirement already satisfied: protobuf in /usr/local/lib/python3.10/dist-packages (from transformers[sentencepiece]) (4.23.4)\n",
            "Requirement already satisfied: fsspec in /usr/local/lib/python3.10/dist-packages (from huggingface-hub<1.0,>=0.14.1->transformers[sentencepiece]) (2023.6.0)\n",
            "Requirement already satisfied: typing-extensions>=3.7.4.3 in /usr/local/lib/python3.10/dist-packages (from huggingface-hub<1.0,>=0.14.1->transformers[sentencepiece]) (4.7.1)\n",
            "Requirement already satisfied: urllib3<1.27,>=1.21.1 in /usr/local/lib/python3.10/dist-packages (from requests->transformers[sentencepiece]) (1.26.16)\n",
            "Requirement already satisfied: certifi>=2017.4.17 in /usr/local/lib/python3.10/dist-packages (from requests->transformers[sentencepiece]) (2023.7.22)\n",
            "Requirement already satisfied: charset-normalizer~=2.0.0 in /usr/local/lib/python3.10/dist-packages (from requests->transformers[sentencepiece]) (2.0.12)\n",
            "Requirement already satisfied: idna<4,>=2.5 in /usr/local/lib/python3.10/dist-packages (from requests->transformers[sentencepiece]) (3.4)\n",
            "Requirement already satisfied: sentencepiece in /usr/local/lib/python3.10/dist-packages (0.1.96)\n",
            "Requirement already satisfied: datasets in /usr/local/lib/python3.10/dist-packages (2.14.1)\n",
            "Requirement already satisfied: numpy>=1.17 in /usr/local/lib/python3.10/dist-packages (from datasets) (1.22.4)\n",
            "Requirement already satisfied: pyarrow>=8.0.0 in /usr/local/lib/python3.10/dist-packages (from datasets) (9.0.0)\n",
            "Requirement already satisfied: dill<0.3.8,>=0.3.0 in /usr/local/lib/python3.10/dist-packages (from datasets) (0.3.7)\n",
            "Requirement already satisfied: pandas in /usr/local/lib/python3.10/dist-packages (from datasets) (1.5.3)\n",
            "Requirement already satisfied: requests>=2.19.0 in /usr/local/lib/python3.10/dist-packages (from datasets) (2.27.1)\n",
            "Requirement already satisfied: tqdm>=4.62.1 in /usr/local/lib/python3.10/dist-packages (from datasets) (4.65.0)\n",
            "Requirement already satisfied: xxhash in /usr/local/lib/python3.10/dist-packages (from datasets) (3.3.0)\n",
            "Requirement already satisfied: multiprocess in /usr/local/lib/python3.10/dist-packages (from datasets) (0.70.15)\n",
            "Requirement already satisfied: fsspec[http]>=2021.11.1 in /usr/local/lib/python3.10/dist-packages (from datasets) (2023.6.0)\n",
            "Requirement already satisfied: aiohttp in /usr/local/lib/python3.10/dist-packages (from datasets) (3.8.5)\n",
            "Requirement already satisfied: huggingface-hub<1.0.0,>=0.14.0 in /usr/local/lib/python3.10/dist-packages (from datasets) (0.16.4)\n",
            "Requirement already satisfied: packaging in /usr/local/lib/python3.10/dist-packages (from datasets) (23.1)\n",
            "Requirement already satisfied: pyyaml>=5.1 in /usr/local/lib/python3.10/dist-packages (from datasets) (6.0.1)\n",
            "Requirement already satisfied: attrs>=17.3.0 in /usr/local/lib/python3.10/dist-packages (from aiohttp->datasets) (23.1.0)\n",
            "Requirement already satisfied: charset-normalizer<4.0,>=2.0 in /usr/local/lib/python3.10/dist-packages (from aiohttp->datasets) (2.0.12)\n",
            "Requirement already satisfied: multidict<7.0,>=4.5 in /usr/local/lib/python3.10/dist-packages (from aiohttp->datasets) (6.0.4)\n",
            "Requirement already satisfied: async-timeout<5.0,>=4.0.0a3 in /usr/local/lib/python3.10/dist-packages (from aiohttp->datasets) (4.0.2)\n",
            "Requirement already satisfied: yarl<2.0,>=1.0 in /usr/local/lib/python3.10/dist-packages (from aiohttp->datasets) (1.9.2)\n",
            "Requirement already satisfied: frozenlist>=1.1.1 in /usr/local/lib/python3.10/dist-packages (from aiohttp->datasets) (1.4.0)\n",
            "Requirement already satisfied: aiosignal>=1.1.2 in /usr/local/lib/python3.10/dist-packages (from aiohttp->datasets) (1.3.1)\n",
            "Requirement already satisfied: filelock in /usr/local/lib/python3.10/dist-packages (from huggingface-hub<1.0.0,>=0.14.0->datasets) (3.12.2)\n",
            "Requirement already satisfied: typing-extensions>=3.7.4.3 in /usr/local/lib/python3.10/dist-packages (from huggingface-hub<1.0.0,>=0.14.0->datasets) (4.7.1)\n",
            "Requirement already satisfied: urllib3<1.27,>=1.21.1 in /usr/local/lib/python3.10/dist-packages (from requests>=2.19.0->datasets) (1.26.16)\n",
            "Requirement already satisfied: certifi>=2017.4.17 in /usr/local/lib/python3.10/dist-packages (from requests>=2.19.0->datasets) (2023.7.22)\n",
            "Requirement already satisfied: idna<4,>=2.5 in /usr/local/lib/python3.10/dist-packages (from requests>=2.19.0->datasets) (3.4)\n",
            "Requirement already satisfied: python-dateutil>=2.8.1 in /usr/local/lib/python3.10/dist-packages (from pandas->datasets) (2.8.2)\n",
            "Requirement already satisfied: pytz>=2020.1 in /usr/local/lib/python3.10/dist-packages (from pandas->datasets) (2022.7.1)\n",
            "Requirement already satisfied: six>=1.5 in /usr/local/lib/python3.10/dist-packages (from python-dateutil>=2.8.1->pandas->datasets) (1.16.0)\n",
            "Requirement already satisfied: evaluate in /usr/local/lib/python3.10/dist-packages (0.4.0)\n",
            "Requirement already satisfied: datasets>=2.0.0 in /usr/local/lib/python3.10/dist-packages (from evaluate) (2.14.1)\n",
            "Requirement already satisfied: numpy>=1.17 in /usr/local/lib/python3.10/dist-packages (from evaluate) (1.22.4)\n",
            "Requirement already satisfied: dill in /usr/local/lib/python3.10/dist-packages (from evaluate) (0.3.7)\n",
            "Requirement already satisfied: pandas in /usr/local/lib/python3.10/dist-packages (from evaluate) (1.5.3)\n",
            "Requirement already satisfied: requests>=2.19.0 in /usr/local/lib/python3.10/dist-packages (from evaluate) (2.27.1)\n",
            "Requirement already satisfied: tqdm>=4.62.1 in /usr/local/lib/python3.10/dist-packages (from evaluate) (4.65.0)\n",
            "Requirement already satisfied: xxhash in /usr/local/lib/python3.10/dist-packages (from evaluate) (3.3.0)\n",
            "Requirement already satisfied: multiprocess in /usr/local/lib/python3.10/dist-packages (from evaluate) (0.70.15)\n",
            "Requirement already satisfied: fsspec[http]>=2021.05.0 in /usr/local/lib/python3.10/dist-packages (from evaluate) (2023.6.0)\n",
            "Requirement already satisfied: huggingface-hub>=0.7.0 in /usr/local/lib/python3.10/dist-packages (from evaluate) (0.16.4)\n",
            "Requirement already satisfied: packaging in /usr/local/lib/python3.10/dist-packages (from evaluate) (23.1)\n",
            "Requirement already satisfied: responses<0.19 in /usr/local/lib/python3.10/dist-packages (from evaluate) (0.18.0)\n",
            "Requirement already satisfied: pyarrow>=8.0.0 in /usr/local/lib/python3.10/dist-packages (from datasets>=2.0.0->evaluate) (9.0.0)\n",
            "Requirement already satisfied: aiohttp in /usr/local/lib/python3.10/dist-packages (from datasets>=2.0.0->evaluate) (3.8.5)\n",
            "Requirement already satisfied: pyyaml>=5.1 in /usr/local/lib/python3.10/dist-packages (from datasets>=2.0.0->evaluate) (6.0.1)\n",
            "Requirement already satisfied: filelock in /usr/local/lib/python3.10/dist-packages (from huggingface-hub>=0.7.0->evaluate) (3.12.2)\n",
            "Requirement already satisfied: typing-extensions>=3.7.4.3 in /usr/local/lib/python3.10/dist-packages (from huggingface-hub>=0.7.0->evaluate) (4.7.1)\n",
            "Requirement already satisfied: urllib3<1.27,>=1.21.1 in /usr/local/lib/python3.10/dist-packages (from requests>=2.19.0->evaluate) (1.26.16)\n",
            "Requirement already satisfied: certifi>=2017.4.17 in /usr/local/lib/python3.10/dist-packages (from requests>=2.19.0->evaluate) (2023.7.22)\n",
            "Requirement already satisfied: charset-normalizer~=2.0.0 in /usr/local/lib/python3.10/dist-packages (from requests>=2.19.0->evaluate) (2.0.12)\n",
            "Requirement already satisfied: idna<4,>=2.5 in /usr/local/lib/python3.10/dist-packages (from requests>=2.19.0->evaluate) (3.4)\n",
            "Requirement already satisfied: python-dateutil>=2.8.1 in /usr/local/lib/python3.10/dist-packages (from pandas->evaluate) (2.8.2)\n",
            "Requirement already satisfied: pytz>=2020.1 in /usr/local/lib/python3.10/dist-packages (from pandas->evaluate) (2022.7.1)\n",
            "Requirement already satisfied: attrs>=17.3.0 in /usr/local/lib/python3.10/dist-packages (from aiohttp->datasets>=2.0.0->evaluate) (23.1.0)\n",
            "Requirement already satisfied: multidict<7.0,>=4.5 in /usr/local/lib/python3.10/dist-packages (from aiohttp->datasets>=2.0.0->evaluate) (6.0.4)\n",
            "Requirement already satisfied: async-timeout<5.0,>=4.0.0a3 in /usr/local/lib/python3.10/dist-packages (from aiohttp->datasets>=2.0.0->evaluate) (4.0.2)\n",
            "Requirement already satisfied: yarl<2.0,>=1.0 in /usr/local/lib/python3.10/dist-packages (from aiohttp->datasets>=2.0.0->evaluate) (1.9.2)\n",
            "Requirement already satisfied: frozenlist>=1.1.1 in /usr/local/lib/python3.10/dist-packages (from aiohttp->datasets>=2.0.0->evaluate) (1.4.0)\n",
            "Requirement already satisfied: aiosignal>=1.1.2 in /usr/local/lib/python3.10/dist-packages (from aiohttp->datasets>=2.0.0->evaluate) (1.3.1)\n",
            "Requirement already satisfied: six>=1.5 in /usr/local/lib/python3.10/dist-packages (from python-dateutil>=2.8.1->pandas->evaluate) (1.16.0)\n",
            "Requirement already satisfied: openprompt in /usr/local/lib/python3.10/dist-packages (1.0.1)\n",
            "Requirement already satisfied: transformers>=4.10.0 in /usr/local/lib/python3.10/dist-packages (from openprompt) (4.31.0)\n",
            "Requirement already satisfied: sentencepiece==0.1.96 in /usr/local/lib/python3.10/dist-packages (from openprompt) (0.1.96)\n",
            "Requirement already satisfied: tqdm>=4.62.2 in /usr/local/lib/python3.10/dist-packages (from openprompt) (4.65.0)\n",
            "Requirement already satisfied: tensorboardX in /usr/local/lib/python3.10/dist-packages (from openprompt) (2.6.1)\n",
            "Requirement already satisfied: nltk in /usr/local/lib/python3.10/dist-packages (from openprompt) (3.8.1)\n",
            "Requirement already satisfied: yacs in /usr/local/lib/python3.10/dist-packages (from openprompt) (0.1.8)\n",
            "Requirement already satisfied: dill in /usr/local/lib/python3.10/dist-packages (from openprompt) (0.3.7)\n",
            "Requirement already satisfied: datasets in /usr/local/lib/python3.10/dist-packages (from openprompt) (2.14.1)\n",
            "Requirement already satisfied: rouge==1.0.0 in /usr/local/lib/python3.10/dist-packages (from openprompt) (1.0.0)\n",
            "Requirement already satisfied: pyarrow in /usr/local/lib/python3.10/dist-packages (from openprompt) (9.0.0)\n",
            "Requirement already satisfied: scipy in /usr/local/lib/python3.10/dist-packages (from openprompt) (1.10.1)\n",
            "Requirement already satisfied: six in /usr/local/lib/python3.10/dist-packages (from rouge==1.0.0->openprompt) (1.16.0)\n",
            "Requirement already satisfied: filelock in /usr/local/lib/python3.10/dist-packages (from transformers>=4.10.0->openprompt) (3.12.2)\n",
            "Requirement already satisfied: huggingface-hub<1.0,>=0.14.1 in /usr/local/lib/python3.10/dist-packages (from transformers>=4.10.0->openprompt) (0.16.4)\n",
            "Requirement already satisfied: numpy>=1.17 in /usr/local/lib/python3.10/dist-packages (from transformers>=4.10.0->openprompt) (1.22.4)\n",
            "Requirement already satisfied: packaging>=20.0 in /usr/local/lib/python3.10/dist-packages (from transformers>=4.10.0->openprompt) (23.1)\n",
            "Requirement already satisfied: pyyaml>=5.1 in /usr/local/lib/python3.10/dist-packages (from transformers>=4.10.0->openprompt) (6.0.1)\n",
            "Requirement already satisfied: regex!=2019.12.17 in /usr/local/lib/python3.10/dist-packages (from transformers>=4.10.0->openprompt) (2022.10.31)\n",
            "Requirement already satisfied: requests in /usr/local/lib/python3.10/dist-packages (from transformers>=4.10.0->openprompt) (2.27.1)\n",
            "Requirement already satisfied: tokenizers!=0.11.3,<0.14,>=0.11.1 in /usr/local/lib/python3.10/dist-packages (from transformers>=4.10.0->openprompt) (0.13.3)\n",
            "Requirement already satisfied: safetensors>=0.3.1 in /usr/local/lib/python3.10/dist-packages (from transformers>=4.10.0->openprompt) (0.3.1)\n",
            "Requirement already satisfied: pandas in /usr/local/lib/python3.10/dist-packages (from datasets->openprompt) (1.5.3)\n",
            "Requirement already satisfied: xxhash in /usr/local/lib/python3.10/dist-packages (from datasets->openprompt) (3.3.0)\n",
            "Requirement already satisfied: multiprocess in /usr/local/lib/python3.10/dist-packages (from datasets->openprompt) (0.70.15)\n",
            "Requirement already satisfied: fsspec[http]>=2021.11.1 in /usr/local/lib/python3.10/dist-packages (from datasets->openprompt) (2023.6.0)\n",
            "Requirement already satisfied: aiohttp in /usr/local/lib/python3.10/dist-packages (from datasets->openprompt) (3.8.5)\n",
            "Requirement already satisfied: click in /usr/local/lib/python3.10/dist-packages (from nltk->openprompt) (8.1.6)\n",
            "Requirement already satisfied: joblib in /usr/local/lib/python3.10/dist-packages (from nltk->openprompt) (1.3.1)\n",
            "Requirement already satisfied: protobuf>=4.22.3 in /usr/local/lib/python3.10/dist-packages (from tensorboardX->openprompt) (4.23.4)\n",
            "Requirement already satisfied: attrs>=17.3.0 in /usr/local/lib/python3.10/dist-packages (from aiohttp->datasets->openprompt) (23.1.0)\n",
            "Requirement already satisfied: charset-normalizer<4.0,>=2.0 in /usr/local/lib/python3.10/dist-packages (from aiohttp->datasets->openprompt) (2.0.12)\n",
            "Requirement already satisfied: multidict<7.0,>=4.5 in /usr/local/lib/python3.10/dist-packages (from aiohttp->datasets->openprompt) (6.0.4)\n",
            "Requirement already satisfied: async-timeout<5.0,>=4.0.0a3 in /usr/local/lib/python3.10/dist-packages (from aiohttp->datasets->openprompt) (4.0.2)\n",
            "Requirement already satisfied: yarl<2.0,>=1.0 in /usr/local/lib/python3.10/dist-packages (from aiohttp->datasets->openprompt) (1.9.2)\n",
            "Requirement already satisfied: frozenlist>=1.1.1 in /usr/local/lib/python3.10/dist-packages (from aiohttp->datasets->openprompt) (1.4.0)\n",
            "Requirement already satisfied: aiosignal>=1.1.2 in /usr/local/lib/python3.10/dist-packages (from aiohttp->datasets->openprompt) (1.3.1)\n",
            "Requirement already satisfied: typing-extensions>=3.7.4.3 in /usr/local/lib/python3.10/dist-packages (from huggingface-hub<1.0,>=0.14.1->transformers>=4.10.0->openprompt) (4.7.1)\n",
            "Requirement already satisfied: urllib3<1.27,>=1.21.1 in /usr/local/lib/python3.10/dist-packages (from requests->transformers>=4.10.0->openprompt) (1.26.16)\n",
            "Requirement already satisfied: certifi>=2017.4.17 in /usr/local/lib/python3.10/dist-packages (from requests->transformers>=4.10.0->openprompt) (2023.7.22)\n",
            "Requirement already satisfied: idna<4,>=2.5 in /usr/local/lib/python3.10/dist-packages (from requests->transformers>=4.10.0->openprompt) (3.4)\n",
            "Requirement already satisfied: python-dateutil>=2.8.1 in /usr/local/lib/python3.10/dist-packages (from pandas->datasets->openprompt) (2.8.2)\n",
            "Requirement already satisfied: pytz>=2020.1 in /usr/local/lib/python3.10/dist-packages (from pandas->datasets->openprompt) (2022.7.1)\n"
          ]
        },
        {
          "name": "stderr",
          "output_type": "stream",
          "text": [
            "/usr/local/lib/python3.10/dist-packages/transformers/generation_utils.py:24: FutureWarning: Importing `GenerationMixin` from `src/transformers/generation_utils.py` is deprecated and will be removed in Transformers v5. Import as `from transformers import GenerationMixin` instead.\n",
            "  warnings.warn(\n"
          ]
        }
      ],
      "source": [
        "!pip install transformers accelerate\n",
        "!pip install transformers[sentencepiece]\n",
        "!pip install sentencepiece\n",
        "from transformers import AutoTokenizer, AutoModel, EarlyStoppingCallback, AutoModelForSequenceClassification, AutoConfig,Trainer, TrainingArguments,DataCollatorWithPadding\n",
        "import torch\n",
        "import numpy as np\n",
        "import pandas as pd\n",
        "!pip install datasets\n",
        "from datasets import load_metric\n",
        "%pip install evaluate\n",
        "from evaluate import evaluator\n",
        "from sklearn.model_selection import train_test_split\n",
        "import csv\n",
        "!pip install openprompt\n",
        "import os\n",
        "import csv\n",
        "from openprompt.data_utils import InputExample\n",
        "\n",
        "from datasets import Dataset, load_metric\n",
        "from sklearn import preprocessing\n",
        "# notebook_login()\n",
        "from tqdm import tqdm\n",
        "CUDA_LAUNCH_BLOCKING=1\n"
      ]
    },
    {
      "cell_type": "code",
      "execution_count": 2,
      "metadata": {
        "colab": {
          "base_uri": "https://localhost:8080/"
        },
        "id": "3873YkJPTQUh",
        "outputId": "e6539ca7-f2c0-434c-e961-467a214dcd2f"
      },
      "outputs": [
        {
          "name": "stdout",
          "output_type": "stream",
          "text": [
            "Drive already mounted at /content/drive; to attempt to forcibly remount, call drive.mount(\"/content/drive\", force_remount=True).\n"
          ]
        }
      ],
      "source": [
        "from google.colab import drive\n",
        "drive.mount('/content/drive')"
      ]
    },
    {
      "cell_type": "code",
      "execution_count": 2,
      "metadata": {
        "id": "jlocSyBKLI6T"
      },
      "outputs": [],
      "source": []
    },
    {
      "cell_type": "code",
      "execution_count": 24,
      "metadata": {
        "id": "1yw6xXMxa8fm"
      },
      "outputs": [],
      "source": [
        "train_I = pd.read_csv(r'/content/drive/MyDrive/dataset I/train.csv', encoding='utf_8_sig')\n",
        "train_I.fillna('', inplace=True)\n",
        "train_II = pd.read_csv(r'/content/drive/MyDrive/dataset II/train.csv', encoding='utf_8_sig')\n",
        "train_II.fillna('', inplace=True)\n",
        "train = pd.concat([train_I,train_II],axis=0)\n",
        "test_I = pd.read_csv(r'/content/drive/MyDrive/dataset II/test.csv', encoding='utf_8_sig')\n",
        "test_I.fillna('', inplace=True)\n",
        "test_II = pd.read_csv(r'/content/drive/MyDrive/dataset II/test.csv', encoding='utf_8_sig')\n",
        "test_II.fillna('', inplace=True)"
      ]
    },
    {
      "cell_type": "code",
      "execution_count": 25,
      "metadata": {
        "id": "lXjp2eL88Lm-"
      },
      "outputs": [],
      "source": [
        "# unified columns\n",
        "train = train[['label','text']].reset_index(drop=True)\n",
        "label2id = {'positive':0,'negative':1,'Adaptive':2,'Perfective':3,'Corrective':4}\n",
        "train = train.replace({'label':label2id})\n",
        "test_I = test_I.replace({'label':label2id})\n",
        "test_II = test_II.replace({'label':label2id})"
      ]
    },
    {
      "cell_type": "code",
      "execution_count": 5,
      "metadata": {
        "colab": {
          "base_uri": "https://localhost:8080/"
        },
        "id": "4rosVa-zQhn5",
        "outputId": "fb1688f2-365a-4920-c0a9-6189ae0c817c"
      },
      "outputs": [
        {
          "data": {
            "text/plain": [
              "8333"
            ]
          },
          "execution_count": 5,
          "metadata": {},
          "output_type": "execute_result"
        }
      ],
      "source": [
        "len(train)"
      ]
    },
    {
      "cell_type": "code",
      "execution_count": 6,
      "metadata": {
        "colab": {
          "base_uri": "https://localhost:8080/",
          "height": 424
        },
        "id": "XcA6UDpaQ90u",
        "outputId": "b6d9521a-0e3a-4e16-cc39-e5557be33ddc"
      },
      "outputs": [
        {
          "data": {
            "text/html": [
              "\n",
              "\n",
              "  <div id=\"df-aa1497b9-1e62-4b81-aa61-59f43a3a5d02\">\n",
              "    <div class=\"colab-df-container\">\n",
              "      <div>\n",
              "<style scoped>\n",
              "    .dataframe tbody tr th:only-of-type {\n",
              "        vertical-align: middle;\n",
              "    }\n",
              "\n",
              "    .dataframe tbody tr th {\n",
              "        vertical-align: top;\n",
              "    }\n",
              "\n",
              "    .dataframe thead th {\n",
              "        text-align: right;\n",
              "    }\n",
              "</style>\n",
              "<table border=\"1\" class=\"dataframe\">\n",
              "  <thead>\n",
              "    <tr style=\"text-align: right;\">\n",
              "      <th></th>\n",
              "      <th>label</th>\n",
              "      <th>text</th>\n",
              "    </tr>\n",
              "  </thead>\n",
              "  <tbody>\n",
              "    <tr>\n",
              "      <th>0</th>\n",
              "      <td>0</td>\n",
              "      <td>XSS 취약점 수정</td>\n",
              "    </tr>\n",
              "    <tr>\n",
              "      <th>1</th>\n",
              "      <td>1</td>\n",
              "      <td>Auto merge of #4754 - daira:fix-enable-debug, ...</td>\n",
              "    </tr>\n",
              "    <tr>\n",
              "      <th>2</th>\n",
              "      <td>0</td>\n",
              "      <td>CAMEL-9309: Make it easier to turn on|off java...</td>\n",
              "    </tr>\n",
              "    <tr>\n",
              "      <th>3</th>\n",
              "      <td>0</td>\n",
              "      <td>Fixed bug #72627: Memory Leakage In exif_proce...</td>\n",
              "    </tr>\n",
              "    <tr>\n",
              "      <th>4</th>\n",
              "      <td>1</td>\n",
              "      <td>Merge branch 'dev'</td>\n",
              "    </tr>\n",
              "    <tr>\n",
              "      <th>...</th>\n",
              "      <td>...</td>\n",
              "      <td>...</td>\n",
              "    </tr>\n",
              "    <tr>\n",
              "      <th>8328</th>\n",
              "      <td>2</td>\n",
              "      <td>glib-2.0: add GLib.HashTable.foreach\\n\\nFixes ...</td>\n",
              "    </tr>\n",
              "    <tr>\n",
              "      <th>8329</th>\n",
              "      <td>2</td>\n",
              "      <td>search is more complete, support forward/rever...</td>\n",
              "    </tr>\n",
              "    <tr>\n",
              "      <th>8330</th>\n",
              "      <td>4</td>\n",
              "      <td>Extract Function: Consider reference \"broken\" ...</td>\n",
              "    </tr>\n",
              "    <tr>\n",
              "      <th>8331</th>\n",
              "      <td>3</td>\n",
              "      <td>First part of https://jira.duraspace.org/brows...</td>\n",
              "    </tr>\n",
              "    <tr>\n",
              "      <th>8332</th>\n",
              "      <td>4</td>\n",
              "      <td>HADOOP-7187. Fix socket leak in GangliaContext...</td>\n",
              "    </tr>\n",
              "  </tbody>\n",
              "</table>\n",
              "<p>8333 rows × 2 columns</p>\n",
              "</div>\n",
              "      <button class=\"colab-df-convert\" onclick=\"convertToInteractive('df-aa1497b9-1e62-4b81-aa61-59f43a3a5d02')\"\n",
              "              title=\"Convert this dataframe to an interactive table.\"\n",
              "              style=\"display:none;\">\n",
              "\n",
              "  <svg xmlns=\"http://www.w3.org/2000/svg\" height=\"24px\"viewBox=\"0 0 24 24\"\n",
              "       width=\"24px\">\n",
              "    <path d=\"M0 0h24v24H0V0z\" fill=\"none\"/>\n",
              "    <path d=\"M18.56 5.44l.94 2.06.94-2.06 2.06-.94-2.06-.94-.94-2.06-.94 2.06-2.06.94zm-11 1L8.5 8.5l.94-2.06 2.06-.94-2.06-.94L8.5 2.5l-.94 2.06-2.06.94zm10 10l.94 2.06.94-2.06 2.06-.94-2.06-.94-.94-2.06-.94 2.06-2.06.94z\"/><path d=\"M17.41 7.96l-1.37-1.37c-.4-.4-.92-.59-1.43-.59-.52 0-1.04.2-1.43.59L10.3 9.45l-7.72 7.72c-.78.78-.78 2.05 0 2.83L4 21.41c.39.39.9.59 1.41.59.51 0 1.02-.2 1.41-.59l7.78-7.78 2.81-2.81c.8-.78.8-2.07 0-2.86zM5.41 20L4 18.59l7.72-7.72 1.47 1.35L5.41 20z\"/>\n",
              "  </svg>\n",
              "      </button>\n",
              "\n",
              "\n",
              "\n",
              "    <div id=\"df-abd7b8cb-4e4a-4651-a53a-fa3917748a7e\">\n",
              "      <button class=\"colab-df-quickchart\" onclick=\"quickchart('df-abd7b8cb-4e4a-4651-a53a-fa3917748a7e')\"\n",
              "              title=\"Suggest charts.\"\n",
              "              style=\"display:none;\">\n",
              "\n",
              "<svg xmlns=\"http://www.w3.org/2000/svg\" height=\"24px\"viewBox=\"0 0 24 24\"\n",
              "     width=\"24px\">\n",
              "    <g>\n",
              "        <path d=\"M19 3H5c-1.1 0-2 .9-2 2v14c0 1.1.9 2 2 2h14c1.1 0 2-.9 2-2V5c0-1.1-.9-2-2-2zM9 17H7v-7h2v7zm4 0h-2V7h2v10zm4 0h-2v-4h2v4z\"/>\n",
              "    </g>\n",
              "</svg>\n",
              "      </button>\n",
              "    </div>\n",
              "\n",
              "<style>\n",
              "  .colab-df-quickchart {\n",
              "    background-color: #E8F0FE;\n",
              "    border: none;\n",
              "    border-radius: 50%;\n",
              "    cursor: pointer;\n",
              "    display: none;\n",
              "    fill: #1967D2;\n",
              "    height: 32px;\n",
              "    padding: 0 0 0 0;\n",
              "    width: 32px;\n",
              "  }\n",
              "\n",
              "  .colab-df-quickchart:hover {\n",
              "    background-color: #E2EBFA;\n",
              "    box-shadow: 0px 1px 2px rgba(60, 64, 67, 0.3), 0px 1px 3px 1px rgba(60, 64, 67, 0.15);\n",
              "    fill: #174EA6;\n",
              "  }\n",
              "\n",
              "  [theme=dark] .colab-df-quickchart {\n",
              "    background-color: #3B4455;\n",
              "    fill: #D2E3FC;\n",
              "  }\n",
              "\n",
              "  [theme=dark] .colab-df-quickchart:hover {\n",
              "    background-color: #434B5C;\n",
              "    box-shadow: 0px 1px 3px 1px rgba(0, 0, 0, 0.15);\n",
              "    filter: drop-shadow(0px 1px 2px rgba(0, 0, 0, 0.3));\n",
              "    fill: #FFFFFF;\n",
              "  }\n",
              "</style>\n",
              "\n",
              "    <script>\n",
              "      async function quickchart(key) {\n",
              "        const containerElement = document.querySelector('#' + key);\n",
              "        const charts = await google.colab.kernel.invokeFunction(\n",
              "            'suggestCharts', [key], {});\n",
              "      }\n",
              "    </script>\n",
              "\n",
              "      <script>\n",
              "\n",
              "function displayQuickchartButton(domScope) {\n",
              "  let quickchartButtonEl =\n",
              "    domScope.querySelector('#df-abd7b8cb-4e4a-4651-a53a-fa3917748a7e button.colab-df-quickchart');\n",
              "  quickchartButtonEl.style.display =\n",
              "    google.colab.kernel.accessAllowed ? 'block' : 'none';\n",
              "}\n",
              "\n",
              "        displayQuickchartButton(document);\n",
              "      </script>\n",
              "      <style>\n",
              "    .colab-df-container {\n",
              "      display:flex;\n",
              "      flex-wrap:wrap;\n",
              "      gap: 12px;\n",
              "    }\n",
              "\n",
              "    .colab-df-convert {\n",
              "      background-color: #E8F0FE;\n",
              "      border: none;\n",
              "      border-radius: 50%;\n",
              "      cursor: pointer;\n",
              "      display: none;\n",
              "      fill: #1967D2;\n",
              "      height: 32px;\n",
              "      padding: 0 0 0 0;\n",
              "      width: 32px;\n",
              "    }\n",
              "\n",
              "    .colab-df-convert:hover {\n",
              "      background-color: #E2EBFA;\n",
              "      box-shadow: 0px 1px 2px rgba(60, 64, 67, 0.3), 0px 1px 3px 1px rgba(60, 64, 67, 0.15);\n",
              "      fill: #174EA6;\n",
              "    }\n",
              "\n",
              "    [theme=dark] .colab-df-convert {\n",
              "      background-color: #3B4455;\n",
              "      fill: #D2E3FC;\n",
              "    }\n",
              "\n",
              "    [theme=dark] .colab-df-convert:hover {\n",
              "      background-color: #434B5C;\n",
              "      box-shadow: 0px 1px 3px 1px rgba(0, 0, 0, 0.15);\n",
              "      filter: drop-shadow(0px 1px 2px rgba(0, 0, 0, 0.3));\n",
              "      fill: #FFFFFF;\n",
              "    }\n",
              "  </style>\n",
              "\n",
              "      <script>\n",
              "        const buttonEl =\n",
              "          document.querySelector('#df-aa1497b9-1e62-4b81-aa61-59f43a3a5d02 button.colab-df-convert');\n",
              "        buttonEl.style.display =\n",
              "          google.colab.kernel.accessAllowed ? 'block' : 'none';\n",
              "\n",
              "        async function convertToInteractive(key) {\n",
              "          const element = document.querySelector('#df-aa1497b9-1e62-4b81-aa61-59f43a3a5d02');\n",
              "          const dataTable =\n",
              "            await google.colab.kernel.invokeFunction('convertToInteractive',\n",
              "                                                     [key], {});\n",
              "          if (!dataTable) return;\n",
              "\n",
              "          const docLinkHtml = 'Like what you see? Visit the ' +\n",
              "            '<a target=\"_blank\" href=https://colab.research.google.com/notebooks/data_table.ipynb>data table notebook</a>'\n",
              "            + ' to learn more about interactive tables.';\n",
              "          element.innerHTML = '';\n",
              "          dataTable['output_type'] = 'display_data';\n",
              "          await google.colab.output.renderOutput(dataTable, element);\n",
              "          const docLink = document.createElement('div');\n",
              "          docLink.innerHTML = docLinkHtml;\n",
              "          element.appendChild(docLink);\n",
              "        }\n",
              "      </script>\n",
              "    </div>\n",
              "  </div>\n"
            ],
            "text/plain": [
              "      label                                               text\n",
              "0         0                                         XSS 취약점 수정\n",
              "1         1  Auto merge of #4754 - daira:fix-enable-debug, ...\n",
              "2         0  CAMEL-9309: Make it easier to turn on|off java...\n",
              "3         0  Fixed bug #72627: Memory Leakage In exif_proce...\n",
              "4         1                                 Merge branch 'dev'\n",
              "...     ...                                                ...\n",
              "8328      2  glib-2.0: add GLib.HashTable.foreach\\n\\nFixes ...\n",
              "8329      2  search is more complete, support forward/rever...\n",
              "8330      4  Extract Function: Consider reference \"broken\" ...\n",
              "8331      3  First part of https://jira.duraspace.org/brows...\n",
              "8332      4  HADOOP-7187. Fix socket leak in GangliaContext...\n",
              "\n",
              "[8333 rows x 2 columns]"
            ]
          },
          "execution_count": 6,
          "metadata": {},
          "output_type": "execute_result"
        }
      ],
      "source": [
        "train"
      ]
    },
    {
      "cell_type": "code",
      "execution_count": null,
      "metadata": {
        "id": "11p7qP5DYdIA"
      },
      "outputs": [],
      "source": [
        "test"
      ]
    },
    {
      "cell_type": "code",
      "execution_count": 27,
      "metadata": {
        "colab": {
          "base_uri": "https://localhost:8080/"
        },
        "id": "ScpkAqsFlXFH",
        "outputId": "f03d90e8-31a9-4056-a812-eb498cb381f9"
      },
      "outputs": [
        {
          "name": "stdout",
          "output_type": "stream",
          "text": [
            "{\n",
            "  \"guid\": null,\n",
            "  \"label\": 0,\n",
            "  \"meta\": {},\n",
            "  \"text_a\": \"XSS \\ucde8\\uc57d\\uc810 \\uc218\\uc815\",\n",
            "  \"text_b\": \"\",\n",
            "  \"tgt_text\": null\n",
            "}\n",
            "\n"
          ]
        }
      ],
      "source": [
        "from openprompt.data_utils import InputExample\n",
        "\n",
        "dataset = {}\n",
        "# for split in ['train','test']:\n",
        "    # dataset[split] = []\n",
        "dataset['train'] = []\n",
        "dataset['test'] = []\n",
        "for index, row in train.iterrows():\n",
        "# print(row.text)\n",
        "# print(row['text'])\n",
        "  input_example = InputExample(text_a  =  row['text'], label=int(row['label']))\n",
        "  dataset['train'].append(input_example)\n",
        "for index, row in test_II.iterrows():\n",
        "    # print(row.text)\n",
        "    # print(row['text'])\n",
        "    input_example = InputExample(text_a  =  row['text'], label=int(row['label']))\n",
        "    dataset['test'].append(input_example)\n",
        "print(dataset['train'][0])"
      ]
    },
    {
      "cell_type": "code",
      "execution_count": 8,
      "metadata": {
        "colab": {
          "base_uri": "https://localhost:8080/"
        },
        "id": "DBJE7JXx5x2R",
        "outputId": "0829f7dd-8246-4609-e27f-5b918adbbff8"
      },
      "outputs": [
        {
          "data": {
            "text/plain": [
              "8333"
            ]
          },
          "execution_count": 8,
          "metadata": {},
          "output_type": "execute_result"
        }
      ],
      "source": [
        "len(train)"
      ]
    },
    {
      "cell_type": "code",
      "execution_count": 26,
      "metadata": {
        "colab": {
          "base_uri": "https://localhost:8080/"
        },
        "id": "abNK-RbE7smq",
        "outputId": "15683060-58fa-4e15-ee1f-837b14869436"
      },
      "outputs": [
        {
          "data": {
            "text/plain": [
              "538"
            ]
          },
          "execution_count": 26,
          "metadata": {},
          "output_type": "execute_result"
        }
      ],
      "source": [
        "len(test_II)"
      ]
    },
    {
      "cell_type": "code",
      "execution_count": 10,
      "metadata": {
        "colab": {
          "base_uri": "https://localhost:8080/"
        },
        "id": "5QR8R3mrkP4w",
        "outputId": "d8878a51-aea8-402c-9bbd-fbf03db86a01"
      },
      "outputs": [
        {
          "name": "stderr",
          "output_type": "stream",
          "text": [
            "/usr/local/lib/python3.10/dist-packages/transformers/models/t5/tokenization_t5.py:199: FutureWarning: This tokenizer was incorrectly instantiated with a model max length of 512 which will be corrected in Transformers v5.\n",
            "For now, this behavior is kept to avoid breaking backwards compatibility when padding/encoding with `truncation is True`.\n",
            "- Be aware that you SHOULD NOT rely on t5-base automatically truncating your input to 512 when padding/encoding.\n",
            "- If you want to encode/pad to sequences longer than 512 you can either instantiate this tokenizer with `model_max_length` or pass `max_length` when encoding/padding.\n",
            "- To avoid this warning, please instantiate this tokenizer with `model_max_length` set to your preferred value.\n",
            "  warnings.warn(\n",
            "You are using the legacy behaviour of the <class 'transformers.models.t5.tokenization_t5.T5Tokenizer'>. This means that tokens that come after special tokens will not be properly handled. We recommend you to read the related pull request available at https://github.com/huggingface/transformers/pull/24565\n"
          ]
        }
      ],
      "source": [
        "from openprompt.plms import load_plm\n",
        "\n",
        "plm, tokenizer, model_config, WrapperClass = load_plm(\"t5\", \"t5-base\")\n"
      ]
    },
    {
      "cell_type": "code",
      "execution_count": 11,
      "metadata": {
        "colab": {
          "base_uri": "https://localhost:8080/"
        },
        "id": "17PmIRcukR4R",
        "outputId": "b5ab71d3-f2ed-4af3-e410-ceaa3d057258"
      },
      "outputs": [
        {
          "name": "stdout",
          "output_type": "stream",
          "text": [
            "[[{'text': 'This', 'loss_ids': 0, 'shortenable_ids': 0}, {'text': ' XSS 취약점 수정', 'loss_ids': 0, 'shortenable_ids': 1}, {'text': ' is a', 'loss_ids': 0, 'shortenable_ids': 0}, {'text': '<mask>', 'loss_ids': 1, 'shortenable_ids': 0}, {'text': ' commit.', 'loss_ids': 0, 'shortenable_ids': 0}], {'label': 0}]\n"
          ]
        }
      ],
      "source": [
        "# Constructing Template\n",
        "# A template can be constructed from the yaml config, but it can also be constructed by directly passing arguments.\n",
        "from openprompt.prompts import ManualTemplate\n",
        "template_text = 'This {\"placeholder\":\"text_a\"} is a {\"mask\"} commit.'\n",
        "mytemplate = ManualTemplate(tokenizer=tokenizer, text=template_text)\n",
        "\n",
        "# To better understand how does the template wrap the example, we visualize one instance.\n",
        "\n",
        "wrapped_example = mytemplate.wrap_one_example(dataset['train'][0])\n",
        "print(wrapped_example)"
      ]
    },
    {
      "cell_type": "code",
      "execution_count": 12,
      "metadata": {
        "colab": {
          "base_uri": "https://localhost:8080/"
        },
        "id": "gYtnSTPdl2s4",
        "outputId": "d70275c3-2971-41fc-e387-fcf30e6dca72"
      },
      "outputs": [
        {
          "name": "stdout",
          "output_type": "stream",
          "text": [
            "{'input_ids': [100, 3, 4, 4256, 3, 2, 3, 2, 19, 3, 9, 32099, 10042, 5, 1, 0, 0, 0, 0, 0, 0, 0, 0, 0, 0, 0, 0, 0, 0, 0, 0, 0, 0, 0, 0, 0, 0, 0, 0, 0, 0, 0, 0, 0, 0, 0, 0, 0, 0, 0, 0, 0, 0, 0, 0, 0, 0, 0, 0, 0, 0, 0, 0, 0, 0, 0, 0, 0, 0, 0, 0, 0, 0, 0, 0, 0, 0, 0, 0, 0, 0, 0, 0, 0, 0, 0, 0, 0, 0, 0, 0, 0, 0, 0, 0, 0, 0, 0, 0, 0, 0, 0, 0, 0, 0, 0, 0, 0, 0, 0, 0, 0, 0, 0, 0, 0, 0, 0, 0, 0, 0, 0, 0, 0, 0, 0, 0, 0], 'attention_mask': [1, 1, 1, 1, 1, 1, 1, 1, 1, 1, 1, 1, 1, 1, 1, 0, 0, 0, 0, 0, 0, 0, 0, 0, 0, 0, 0, 0, 0, 0, 0, 0, 0, 0, 0, 0, 0, 0, 0, 0, 0, 0, 0, 0, 0, 0, 0, 0, 0, 0, 0, 0, 0, 0, 0, 0, 0, 0, 0, 0, 0, 0, 0, 0, 0, 0, 0, 0, 0, 0, 0, 0, 0, 0, 0, 0, 0, 0, 0, 0, 0, 0, 0, 0, 0, 0, 0, 0, 0, 0, 0, 0, 0, 0, 0, 0, 0, 0, 0, 0, 0, 0, 0, 0, 0, 0, 0, 0, 0, 0, 0, 0, 0, 0, 0, 0, 0, 0, 0, 0, 0, 0, 0, 0, 0, 0, 0, 0], 'decoder_input_ids': [0, 32099, 0], 'loss_ids': [0, 1, 0]}\n",
            "['▁This', '▁', 'X', 'SS', '▁', '<unk>', '▁', '<unk>', '▁is', '▁', 'a', '<extra_id_0>', '▁commit', '.', '</s>', '<pad>', '<pad>', '<pad>', '<pad>', '<pad>', '<pad>', '<pad>', '<pad>', '<pad>', '<pad>', '<pad>', '<pad>', '<pad>', '<pad>', '<pad>', '<pad>', '<pad>', '<pad>', '<pad>', '<pad>', '<pad>', '<pad>', '<pad>', '<pad>', '<pad>', '<pad>', '<pad>', '<pad>', '<pad>', '<pad>', '<pad>', '<pad>', '<pad>', '<pad>', '<pad>', '<pad>', '<pad>', '<pad>', '<pad>', '<pad>', '<pad>', '<pad>', '<pad>', '<pad>', '<pad>', '<pad>', '<pad>', '<pad>', '<pad>', '<pad>', '<pad>', '<pad>', '<pad>', '<pad>', '<pad>', '<pad>', '<pad>', '<pad>', '<pad>', '<pad>', '<pad>', '<pad>', '<pad>', '<pad>', '<pad>', '<pad>', '<pad>', '<pad>', '<pad>', '<pad>', '<pad>', '<pad>', '<pad>', '<pad>', '<pad>', '<pad>', '<pad>', '<pad>', '<pad>', '<pad>', '<pad>', '<pad>', '<pad>', '<pad>', '<pad>', '<pad>', '<pad>', '<pad>', '<pad>', '<pad>', '<pad>', '<pad>', '<pad>', '<pad>', '<pad>', '<pad>', '<pad>', '<pad>', '<pad>', '<pad>', '<pad>', '<pad>', '<pad>', '<pad>', '<pad>', '<pad>', '<pad>', '<pad>', '<pad>', '<pad>', '<pad>', '<pad>', '<pad>']\n",
            "['<pad>', '<extra_id_0>', '<pad>']\n"
          ]
        }
      ],
      "source": [
        "wrapped_t5tokenizer = WrapperClass(max_seq_length=128, decoder_max_length=3, tokenizer=tokenizer,truncate_method=\"head\")\n",
        "# or\n",
        "from openprompt.plms import T5TokenizerWrapper\n",
        "wrapped_t5tokenizer= T5TokenizerWrapper(max_seq_length=128, decoder_max_length=3, tokenizer=tokenizer,truncate_method=\"head\")\n",
        "\n",
        "# You can see what a tokenized example looks like by\n",
        "tokenized_example = wrapped_t5tokenizer.tokenize_one_example(wrapped_example, teacher_forcing=False)\n",
        "print(tokenized_example)\n",
        "print(tokenizer.convert_ids_to_tokens(tokenized_example['input_ids']))\n",
        "print(tokenizer.convert_ids_to_tokens(tokenized_example['decoder_input_ids']))\n"
      ]
    },
    {
      "cell_type": "code",
      "execution_count": 13,
      "metadata": {
        "colab": {
          "base_uri": "https://localhost:8080/"
        },
        "id": "WbGLXp_dydKn",
        "outputId": "b504fcc4-8da3-470c-dc1f-e7cd1f4b76c9"
      },
      "outputs": [
        {
          "name": "stderr",
          "output_type": "stream",
          "text": [
            "Token indices sequence length is longer than the specified maximum sequence length for this model (513 > 512). Running this sequence through the model will result in indexing errors\n"
          ]
        }
      ],
      "source": [
        "model_inputs = {}\n",
        "for split in ['train', 'test']:\n",
        "    model_inputs[split] = []\n",
        "    for sample in dataset[split]:\n",
        "        tokenized_example = wrapped_t5tokenizer.tokenize_one_example(mytemplate.wrap_one_example(sample), teacher_forcing=False)\n",
        "        model_inputs[split].append(tokenized_example)"
      ]
    },
    {
      "cell_type": "code",
      "execution_count": 14,
      "metadata": {
        "colab": {
          "base_uri": "https://localhost:8080/"
        },
        "id": "eQ1TceSikT71",
        "outputId": "efc2f2d6-0609-4b61-aad2-6e4e14bd63dc"
      },
      "outputs": [
        {
          "name": "stderr",
          "output_type": "stream",
          "text": [
            "tokenizing: 8333it [00:12, 654.45it/s]\n"
          ]
        }
      ],
      "source": [
        "# We provide a `PromptDataLoader` class to help you do all the above matters and wrap them into an `torch.DataLoader` style iterator.\n",
        "from openprompt import PromptDataLoader\n",
        "\n",
        "train_dataloader = PromptDataLoader(dataset=dataset[\"train\"], template=mytemplate, tokenizer=tokenizer,\n",
        "    tokenizer_wrapper_class=WrapperClass, max_seq_length=256, decoder_max_length=3,\n",
        "    batch_size=4,shuffle=True, teacher_forcing=False, predict_eos_token=False,\n",
        "    truncate_method=\"head\")\n",
        "# next(iter(train_dataloader))"
      ]
    },
    {
      "cell_type": "code",
      "execution_count": 15,
      "metadata": {
        "colab": {
          "base_uri": "https://localhost:8080/"
        },
        "id": "NXqmzRnTVmwO",
        "outputId": "df3ffdf9-ef86-491f-ca62-6178a3f64fe9"
      },
      "outputs": [
        {
          "name": "stdout",
          "output_type": "stream",
          "text": [
            "##Num of label words for each label: [21, 20, 19, 20, 20]\n",
            "Parameter containing:\n",
            "tensor([[[ 2451,     0,     0,     0,     0],\n",
            "         [ 3614,     0,     0,     0,     0],\n",
            "         [ 1346,     0,     0,     0,     0],\n",
            "         [  766,     0,     0,     0,     0],\n",
            "         [ 7992,     0,     0,     0,     0],\n",
            "         [ 1006,    35,     0,     0,     0],\n",
            "         [    3, 11005,   524,     0,     0],\n",
            "         [   16,  4334,     0,     0,     0],\n",
            "         [    3, 21477,     0,     0,     0],\n",
            "         [   36,  5595,     0,     0,     0],\n",
            "         [   16, 12388,   687,   179,     0],\n",
            "         [    3, 23094,     0,     0,     0],\n",
            "         [  417,     0,     0,     0,     0],\n",
            "         [ 3442,     0,     0,     0,     0],\n",
            "         [  143,     0,     0,     0,     0],\n",
            "         [ 2210,     0,     0,     0,     0],\n",
            "         [ 1669,     0,     0,     0,     0],\n",
            "         [11892,    15,     0,     0,     0],\n",
            "         [   21,    17,  4921,     0,     0],\n",
            "         [ 4095,     0,     0,     0,     0],\n",
            "         [11207,     0,     0,     0,     0]],\n",
            "\n",
            "        [[   16, 24875,     0,     0,     0],\n",
            "         [26435,     0,     0,     0,     0],\n",
            "         [ 9930,     0,     0,     0,     0],\n",
            "         [26246,    17,  1329,     0,     0],\n",
            "         [  147, 19812,   757,     0,     0],\n",
            "         [14209,     0,     0,     0,     0],\n",
            "         [ 2971,  1329,     0,     0,     0],\n",
            "         [  554,  1720,  2936,     0,     0],\n",
            "         [    3,     7, 15416,    63,     0],\n",
            "         [    3, 31605,     0,     0,     0],\n",
            "         [  147,   152,   226,  2936,     0],\n",
            "         [   73,  1744,     9,  3569,  6958],\n",
            "         [   73, 19812,    15,    26,     0],\n",
            "         [   73,     9,     7,  4334,    26],\n",
            "         [ 5107,     0,     0,     0,     0],\n",
            "         [27644,     0,     0,     0,     0],\n",
            "         [30371,     0,     0,     0,     0],\n",
            "         [ 6658,  1427,     0,     0,     0],\n",
            "         [11354,   924,     0,     0,     0],\n",
            "         [ 6567,  1225,     0,     0,     0],\n",
            "         [    0,     0,     0,     0,     0]],\n",
            "\n",
            "        [[ 3374,  1528,     0,     0,     0],\n",
            "         [14340,   138,     0,     0,     0],\n",
            "         [    3, 21007,    51,  7360,  1528],\n",
            "         [ 6142,   757,     0,     0,     0],\n",
            "         [ 1460, 13376,   257,     0,     0],\n",
            "         [ 4639,     0,     0,     0,     0],\n",
            "         [ 3374,   179,     0,     0,     0],\n",
            "         [ 9009,     0,     0,     0,     0],\n",
            "         [  433,     0,     0,     0,     0],\n",
            "         [27679,    53,     0,     0,     0],\n",
            "         [10152,     0,     0,     0,     0],\n",
            "         [11887,     0,     0,     0,     0],\n",
            "         [ 7916,     0,     0,     0,     0],\n",
            "         [18149,     0,     0,     0,     0],\n",
            "         [  529,   747,   291,     0,     0],\n",
            "         [27875,     0,     0,     0,     0],\n",
            "         [15208,     0,     0,     0,     0],\n",
            "         [ 6624,     0,     0,     0,     0],\n",
            "         [12368,     0,     0,     0,     0],\n",
            "         [    0,     0,     0,     0,     0],\n",
            "         [    0,     0,     0,     0,     0]],\n",
            "\n",
            "        [[  626,   757,     0,     0,     0],\n",
            "         [ 7140,    15,  5730,     0,     0],\n",
            "         [ 3681, 22588,     0,     0,     0],\n",
            "         [  626,     0,     0,     0,     0],\n",
            "         [    3,     9,   127,   343,     0],\n",
            "         [  647,   626,     0,     0,     0],\n",
            "         [  915,   626,     0,     0,     0],\n",
            "         [  626,   757,  2663,     0,     0],\n",
            "         [  626,   757,     3,    17,  5167],\n",
            "         [  626,     3,    17,  5167,     0],\n",
            "         [    3,  5096,  4992,   138,  2663],\n",
            "         [28306,   757,     0,     0,     0],\n",
            "         [ 2663,     0,     0,     0,     0],\n",
            "         [    3,    17,  5167,     0,     0],\n",
            "         [  657,   626,   757,     0,     0],\n",
            "         [  607,     0,     0,     0,     0],\n",
            "         [28306,     0,     0,     0,     0],\n",
            "         [    3,  5096,  4992,   138,     0],\n",
            "         [    3,   324,  2260,     0,     0],\n",
            "         [  294,  1294,  4788,     0,     0],\n",
            "         [    0,     0,     0,     0,     0]],\n",
            "\n",
            "        [[ 2024,   757,     0,     0,     0],\n",
            "         [ 4153,     0,     0,     0,     0],\n",
            "         [  880,   127,  1528,     0,     0],\n",
            "         [16189,   138,     0,     0,     0],\n",
            "         [    3, 15471,     0,     0,     0],\n",
            "         [30741,   138,     0,     0,     0],\n",
            "         [  394,    53,     0,     0,     0],\n",
            "         [11698,     0,     0,     0,     0],\n",
            "         [  529, 13580,    40,  5560,     0],\n",
            "         [ 1709,  1528,     0,     0,     0],\n",
            "         [ 2016,     0,     0,     0,     0],\n",
            "         [ 1709,   757,     0,     0,     0],\n",
            "         [27982,     0,     0,     0,     0],\n",
            "         [  813,  6941, 22884,     0,     0],\n",
            "         [ 2024,     0,     0,     0,     0],\n",
            "         [ 6363,  1208,     0,     0,     0],\n",
            "         [12820,     0,     0,     0,     0],\n",
            "         [ 6926,     0,     0,     0,     0],\n",
            "         [ 1407,     0,     0,     0,     0],\n",
            "         [ 7796, 24874,     0,     0,     0],\n",
            "         [    0,     0,     0,     0,     0]]])\n",
            "tensor([[-5.2630, -5.1835, -5.0019, -5.0835, -4.9367],\n",
            "        [-5.0603, -5.2679, -4.8538, -5.4379, -4.9651]], grad_fn=<SumBackward1>)\n"
          ]
        }
      ],
      "source": [
        "from openprompt.prompts import ManualVerbalizer,KnowledgeableVerbalizer\n",
        "import torch\n",
        "\n",
        "# for example the verbalizer contains multiple label words in each class\n",
        "# myverbalizer = ManualVerbalizer(tokenizer, num_classes=3,\n",
        "#                         label_words=[[\"Adaptive\"], [\"Perfective\"], [\"Corrective\"]])\n",
        "myverbalizer = KnowledgeableVerbalizer(tokenizer, num_classes=5).from_file(\"/content/drive/MyDrive/knowledgeable_verbalizer_allset.txt\")\n",
        "\n",
        "print(myverbalizer.label_words_ids)\n",
        "logits = torch.randn(2,len(tokenizer)) # creating a pseudo output from the plm, and\n",
        "print(myverbalizer.process_logits(logits)) # see what the verbalizer do\n"
      ]
    },
    {
      "cell_type": "code",
      "execution_count": 16,
      "metadata": {
        "id": "QF8emVWFdOU1"
      },
      "outputs": [],
      "source": [
        "from openprompt import PromptForClassification\n",
        "\n",
        "use_cuda = True\n",
        "prompt_model = PromptForClassification(plm=plm,template=mytemplate, verbalizer=myverbalizer, freeze_plm=False)\n",
        "if use_cuda:\n",
        "    prompt_model=  prompt_model.cuda()\n"
      ]
    },
    {
      "cell_type": "code",
      "execution_count": 17,
      "metadata": {
        "colab": {
          "base_uri": "https://localhost:8080/"
        },
        "id": "clU8GuK3dORY",
        "outputId": "ab3c8fa5-0eb7-44ab-faf3-5112ef20c8e3"
      },
      "outputs": [
        {
          "name": "stderr",
          "output_type": "stream",
          "text": [
            "/usr/local/lib/python3.10/dist-packages/transformers/optimization.py:411: FutureWarning: This implementation of AdamW is deprecated and will be removed in a future version. Use the PyTorch implementation torch.optim.AdamW instead, or set `no_deprecation_warning=True` to disable this warning\n",
            "  warnings.warn(\n"
          ]
        }
      ],
      "source": [
        "# Now the training is standard\n",
        "from transformers import  AdamW, get_linear_schedule_with_warmup\n",
        "loss_func = torch.nn.CrossEntropyLoss()\n",
        "no_decay = ['bias', 'LayerNorm.weight']\n",
        "# it's always good practice to set no decay to biase and LayerNorm parameters\n",
        "optimizer_grouped_parameters = [\n",
        "    {'params': [p for n, p in prompt_model.named_parameters() if not any(nd in n for nd in no_decay)], 'weight_decay': 0.01},\n",
        "    {'params': [p for n, p in prompt_model.named_parameters() if any(nd in n for nd in no_decay)], 'weight_decay': 0.0}\n",
        "]\n",
        "\n",
        "optimizer = AdamW(optimizer_grouped_parameters, lr=1e-4)\n",
        "\n"
      ]
    },
    {
      "cell_type": "code",
      "execution_count": 28,
      "metadata": {
        "colab": {
          "base_uri": "https://localhost:8080/"
        },
        "id": "anBs6P9tisYR",
        "outputId": "07b7d339-8f87-4f21-b60f-a2be059f10e1"
      },
      "outputs": [
        {
          "name": "stderr",
          "output_type": "stream",
          "text": [
            "tokenizing: 538it [00:00, 543.28it/s]\n"
          ]
        }
      ],
      "source": [
        "# Set up early stopping parameters\n",
        "best_validation_loss = float('inf')\n",
        "patience = 3  # Number of epochs to wait for improvement\n",
        "waited_epochs = 0\n",
        "# Evaluate\n",
        "validation_dataloader = PromptDataLoader(dataset=dataset[\"test\"], template=mytemplate, tokenizer=tokenizer,\n",
        "    tokenizer_wrapper_class=WrapperClass, max_seq_length=256, decoder_max_length=3,\n",
        "    batch_size=4,shuffle=False, teacher_forcing=False, predict_eos_token=False,\n",
        "    truncate_method=\"head\")"
      ]
    },
    {
      "cell_type": "code",
      "execution_count": 20,
      "metadata": {
        "colab": {
          "base_uri": "https://localhost:8080/"
        },
        "id": "smTrslsDUCxJ",
        "outputId": "73585ef1-5cd0-4485-da42-28d0f7963547"
      },
      "outputs": [
        {
          "name": "stdout",
          "output_type": "stream",
          "text": [
            "Epoch 0, average loss: 2.08571857213974\n",
            "Epoch 0, average loss: 1.0788176308075588\n",
            "Epoch 0, average loss: 0.9914582099507351\n",
            "Epoch 0, average loss: 0.9302410507167609\n",
            "Epoch 0, average loss: 0.8685847764176813\n",
            "Epoch 0, average loss: 0.8155660248895833\n",
            "Epoch 0, average loss: 0.7725620804821757\n",
            "Epoch 0, average loss: 0.7316511963398602\n",
            "Epoch 0, average loss: 0.7069338795571052\n",
            "Epoch 0, average loss: 0.6829963026314296\n",
            "Epoch 0, average loss: 0.6603745563585913\n",
            "Epoch 0, average loss: 0.6529162172236549\n",
            "Epoch 0, average loss: 0.6356623573771084\n",
            "Epoch 0, average loss: 0.6228108287398373\n",
            "Epoch 0, average loss: 0.6109687105590443\n",
            "Epoch 0, average loss: 0.6046122868208044\n",
            "Epoch 0, average loss: 0.5964951565653114\n",
            "Epoch 0, average loss: 0.5858002445796235\n",
            "Epoch 0, average loss: 0.5804118297308823\n",
            "Epoch 0, average loss: 0.5741048949147789\n",
            "Epoch 0, average loss: 0.5692019621705772\n",
            "Epoch 0, validation loss: 0.3175298324362798\n",
            "Epoch 1, average loss: 0.2622385323047638\n",
            "Epoch 1, average loss: 0.27970669509879514\n",
            "Epoch 1, average loss: 0.3035492944106976\n",
            "Epoch 1, average loss: 0.3253667117651577\n",
            "Epoch 1, average loss: 0.3144305150455503\n",
            "Epoch 1, average loss: 0.3235090201557336\n",
            "Epoch 1, average loss: 0.33782097655487714\n",
            "Epoch 1, average loss: 0.3429880798621862\n",
            "Epoch 1, average loss: 0.3501055589691269\n",
            "Epoch 1, average loss: 0.3518616881628341\n",
            "Epoch 1, average loss: 0.34593214512432735\n",
            "Epoch 1, average loss: 0.343579112352658\n",
            "Epoch 1, average loss: 0.34045146964955303\n",
            "Epoch 1, average loss: 0.33965003269670185\n",
            "Epoch 1, average loss: 0.33583565524874914\n",
            "Epoch 1, average loss: 0.33408023995848324\n",
            "Epoch 1, average loss: 0.33600088086568713\n",
            "Epoch 1, average loss: 0.3359139371106837\n",
            "Epoch 1, average loss: 0.3325217490492246\n",
            "Epoch 1, average loss: 0.3335044108677389\n",
            "Epoch 1, average loss: 0.330288987729343\n",
            "Epoch 1, validation loss: 0.31549593967883155\n",
            "Epoch 2, average loss: 0.18942701816558838\n",
            "Epoch 2, average loss: 0.19929069716154652\n",
            "Epoch 2, average loss: 0.20542980953221127\n",
            "Epoch 2, average loss: 0.1904827182995316\n",
            "Epoch 2, average loss: 0.20228666216030772\n",
            "Epoch 2, average loss: 0.21204146726355624\n",
            "Epoch 2, average loss: 0.2168945212778094\n",
            "Epoch 2, average loss: 0.21754565380946161\n",
            "Epoch 2, average loss: 0.21513044734675893\n",
            "Epoch 2, average loss: 0.21552045897791314\n",
            "Epoch 2, average loss: 0.21509258134547107\n",
            "Epoch 2, average loss: 0.2131434858021514\n",
            "Epoch 2, average loss: 0.2139850886441386\n",
            "Epoch 2, average loss: 0.21269182787264646\n",
            "Epoch 2, average loss: 0.21084591212912268\n",
            "Epoch 2, average loss: 0.20937133556574128\n",
            "Epoch 2, average loss: 0.20934627786868504\n",
            "Epoch 2, average loss: 0.21240095084142674\n",
            "Epoch 2, average loss: 0.2143357484543941\n",
            "Epoch 2, average loss: 0.21468769263819626\n",
            "Epoch 2, average loss: 0.2167513011383115\n",
            "Epoch 2, validation loss: 0.4040329248706684\n",
            "Epoch 3, average loss: 0.182414673268795\n",
            "Epoch 3, average loss: 0.11894781653445177\n",
            "Epoch 3, average loss: 0.13587712272736566\n",
            "Epoch 3, average loss: 0.14494498184379437\n",
            "Epoch 3, average loss: 0.1398746723237341\n",
            "Epoch 3, average loss: 0.13817622673612429\n",
            "Epoch 3, average loss: 0.14621026586253696\n",
            "Epoch 3, average loss: 0.14879944844898918\n",
            "Epoch 3, average loss: 0.14803809827022188\n",
            "Epoch 3, average loss: 0.14383371084258803\n",
            "Epoch 3, average loss: 0.14908817725647272\n",
            "Epoch 3, average loss: 0.14968597231547257\n",
            "Epoch 3, average loss: 0.1500064306074424\n",
            "Epoch 3, average loss: 0.15014162976366063\n",
            "Epoch 3, average loss: 0.1525585412735812\n",
            "Epoch 3, average loss: 0.15382530203176661\n",
            "Epoch 3, average loss: 0.15239528991270468\n",
            "Epoch 3, average loss: 0.1530325897793366\n",
            "Epoch 3, average loss: 0.15428396615449727\n",
            "Epoch 3, average loss: 0.1524587720076413\n",
            "Epoch 3, average loss: 0.1522370449120544\n",
            "Epoch 3, validation loss: 0.425813038095826\n",
            "Epoch 4, average loss: 0.0361778000369668\n",
            "Epoch 4, average loss: 0.062115274455316144\n",
            "Epoch 4, average loss: 0.08045204674092002\n",
            "Epoch 4, average loss: 0.0760769191472128\n",
            "Epoch 4, average loss: 0.08544838151286949\n",
            "Epoch 4, average loss: 0.08536592660603054\n",
            "Epoch 4, average loss: 0.08427181905987355\n",
            "Epoch 4, average loss: 0.08493102428099032\n",
            "Epoch 4, average loss: 0.08535529944360282\n",
            "Epoch 4, average loss: 0.089096516400103\n",
            "Epoch 4, average loss: 0.09486754285854203\n",
            "Epoch 4, average loss: 0.09556288209513714\n",
            "Epoch 4, average loss: 0.1004130802279611\n",
            "Epoch 4, average loss: 0.10533441033077261\n",
            "Epoch 4, average loss: 0.1069675200795793\n",
            "Epoch 4, average loss: 0.10840589215526883\n",
            "Epoch 4, average loss: 0.11093147287162916\n",
            "Epoch 4, average loss: 0.11321978708401174\n",
            "Epoch 4, average loss: 0.11265448751422098\n",
            "Epoch 4, average loss: 0.1130786220369856\n",
            "Epoch 4, average loss: 0.11185555966981306\n",
            "Epoch 4, validation loss: 0.475333530766096\n",
            "Early stopping at epoch 4.\n"
          ]
        }
      ],
      "source": [
        "for epoch in range(10):\n",
        "    tot_loss = 0\n",
        "    for step, inputs in enumerate(train_dataloader):\n",
        "        if use_cuda:\n",
        "            inputs = inputs.cuda()\n",
        "        logits = prompt_model(inputs)\n",
        "        labels = inputs['label']\n",
        "        loss = loss_func(logits, labels)\n",
        "        loss.backward()\n",
        "        tot_loss += loss.item()\n",
        "        optimizer.step()\n",
        "        optimizer.zero_grad()\n",
        "        if step % 100 == 1:\n",
        "            print(\"Epoch {}, average loss: {}\".format(epoch, tot_loss / (step + 1)), flush=True)\n",
        "\n",
        "    # Validation loop\n",
        "    validation_loss = 0\n",
        "    prompt_model.eval()\n",
        "    with torch.no_grad():\n",
        "        for val_step, val_inputs in enumerate(validation_dataloader):\n",
        "            if use_cuda:\n",
        "                val_inputs = val_inputs.cuda()\n",
        "            val_logits = prompt_model(val_inputs)\n",
        "            val_labels = val_inputs['label']\n",
        "            val_loss = loss_func(val_logits, val_labels)\n",
        "            validation_loss += val_loss.item()\n",
        "\n",
        "    validation_loss /= (val_step + 1)\n",
        "    print(\"Epoch {}, validation loss: {}\".format(epoch, validation_loss), flush=True)\n",
        "\n",
        "    # Check for early stopping\n",
        "    if validation_loss < best_validation_loss:\n",
        "        best_validation_loss = validation_loss\n",
        "        waited_epochs = 0\n",
        "        # Save the model's state dictionary to a file\n",
        "        torch.save(prompt_model.state_dict(), \"best_model_state_dict.pt\")\n",
        "    else:\n",
        "        waited_epochs += 1\n",
        "        if waited_epochs >= patience:\n",
        "            print(\"Early stopping at epoch {}.\".format(epoch), flush=True)\n",
        "            break\n",
        "\n",
        "    prompt_model.train()  # Set the model back to training mode"
      ]
    },
    {
      "cell_type": "code",
      "execution_count": 29,
      "metadata": {
        "colab": {
          "base_uri": "https://localhost:8080/"
        },
        "id": "aSxd5VawdOKg",
        "outputId": "1260f233-a51c-4c2a-9925-a4571ac297df"
      },
      "outputs": [
        {
          "name": "stdout",
          "output_type": "stream",
          "text": [
            "Classification Report:\n",
            "              precision    recall  f1-score   support\n",
            "\n",
            "           0     0.0000    0.0000    0.0000         0\n",
            "           1     0.0000    0.0000    0.0000         0\n",
            "           2     0.7865    0.7910    0.7887       177\n",
            "           3     0.8421    0.7111    0.7711       180\n",
            "           4     0.8208    0.7845    0.8023       181\n",
            "\n",
            "    accuracy                         0.7621       538\n",
            "   macro avg     0.4899    0.4573    0.4724       538\n",
            "weighted avg     0.8167    0.7621    0.7874       538\n",
            "\n"
          ]
        },
        {
          "name": "stderr",
          "output_type": "stream",
          "text": [
            "/usr/local/lib/python3.10/dist-packages/sklearn/metrics/_classification.py:1344: UndefinedMetricWarning: Recall and F-score are ill-defined and being set to 0.0 in labels with no true samples. Use `zero_division` parameter to control this behavior.\n",
            "  _warn_prf(average, modifier, msg_start, len(result))\n",
            "/usr/local/lib/python3.10/dist-packages/sklearn/metrics/_classification.py:1344: UndefinedMetricWarning: Recall and F-score are ill-defined and being set to 0.0 in labels with no true samples. Use `zero_division` parameter to control this behavior.\n",
            "  _warn_prf(average, modifier, msg_start, len(result))\n",
            "/usr/local/lib/python3.10/dist-packages/sklearn/metrics/_classification.py:1344: UndefinedMetricWarning: Recall and F-score are ill-defined and being set to 0.0 in labels with no true samples. Use `zero_division` parameter to control this behavior.\n",
            "  _warn_prf(average, modifier, msg_start, len(result))\n"
          ]
        }
      ],
      "source": [
        "from sklearn.metrics import classification_report\n",
        "allpreds = []\n",
        "alllabels = []\n",
        "for step, inputs in enumerate(validation_dataloader):\n",
        "    if use_cuda:\n",
        "        inputs = inputs.cuda()\n",
        "    logits = prompt_model(inputs)\n",
        "    labels = inputs['label']\n",
        "    alllabels.extend(labels.cpu().tolist())\n",
        "    allpreds.extend(torch.argmax(logits, dim=-1).cpu().tolist())\n",
        "\n",
        "# Generate the classification report\n",
        "class_names = [f\"Class_{i}\" for i in range(3)]  # Replace num_classes with the number of classes in your dataset\n",
        "classification_rep = classification_report(alllabels, allpreds, digits=4)\n",
        "\n",
        "print(\"Classification Report:\")\n",
        "print(classification_rep)"
      ]
    },
    {
      "cell_type": "code",
      "execution_count": null,
      "metadata": {
        "id": "ICGpvxV0j63E"
      },
      "outputs": [],
      "source": []
    }
  ],
  "metadata": {
    "accelerator": "GPU",
    "colab": {
      "provenance": []
    },
    "kernelspec": {
      "display_name": "Python 3",
      "name": "python3"
    },
    "language_info": {
      "codemirror_mode": {
        "name": "ipython",
        "version": 3
      },
      "file_extension": ".py",
      "mimetype": "text/x-python",
      "name": "python",
      "nbconvert_exporter": "python",
      "pygments_lexer": "ipython3",
      "version": "3.8.10"
    }
  },
  "nbformat": 4,
  "nbformat_minor": 0
}
