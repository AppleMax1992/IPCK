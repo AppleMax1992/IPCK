version https://git-lfs.github.com/spec/v1
oid sha256:8c1fa1bf341a9425770363494e3ed38888966aba829fb18674bcab5f2e3f7a7a
size 80111
