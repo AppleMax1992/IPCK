version https://git-lfs.github.com/spec/v1
oid sha256:150de9b7edada2f637f0ca10f205d68f6098608b739bd54cc9f63d4ffc87212d
size 80319
