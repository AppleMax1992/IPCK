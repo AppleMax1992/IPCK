version https://git-lfs.github.com/spec/v1
oid sha256:daf6ce4e6e7b689bbc7cb65ad5b515cc732db09c427e381d4bbf8bcb001245f2
size 65022
