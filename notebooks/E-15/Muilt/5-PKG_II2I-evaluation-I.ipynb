version https://git-lfs.github.com/spec/v1
oid sha256:ddef0604319f04d2b18f42c4dd4415d26bd356dd5f9cd6cedee196c245a29862
size 60802
