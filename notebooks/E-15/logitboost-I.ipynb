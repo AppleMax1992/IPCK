version https://git-lfs.github.com/spec/v1
oid sha256:e8d4d9c68167847d6eb7ae4e629d5e892f383c1af6ea722c0be6cac488ebca77
size 4299
