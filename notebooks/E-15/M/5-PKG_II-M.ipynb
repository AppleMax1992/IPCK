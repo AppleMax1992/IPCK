version https://git-lfs.github.com/spec/v1
oid sha256:d0fcdaf41344b09c8498f04e921bba684c55add08d27fd1adb4bc851595fe892
size 74342
