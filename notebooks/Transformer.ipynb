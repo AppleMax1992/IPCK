version https://git-lfs.github.com/spec/v1
oid sha256:c88a35f5edf28680013aeb131899737315794ac188d71638047ac7b782be88b7
size 18181
